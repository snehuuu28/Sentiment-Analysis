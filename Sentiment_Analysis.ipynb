{
 "cells": [
  {
   "cell_type": "markdown",
   "metadata": {
    "id": "N3XECKetdt4i"
   },
   "source": [
    "# Project - NLP-Sentiment Analysis\n",
    "\n",
    "### Project Objective: - Extracting sentiments from customer reviews on iPhone 16"
   ]
  },
  {
   "cell_type": "markdown",
   "metadata": {
    "id": "HQ-J4-h4exWr"
   },
   "source": [
    "## Import libraries"
   ]
  },
  {
   "cell_type": "code",
   "execution_count": 3,
   "metadata": {
    "id": "HlWtEt-4akCO"
   },
   "outputs": [],
   "source": [
    "import pandas as pd\n",
    "import numpy as np\n",
    "import matplotlib.pyplot as plt\n",
    "import seaborn as sns\n",
    "import warnings\n",
    "warnings.filterwarnings('ignore')"
   ]
  },
  {
   "cell_type": "code",
   "execution_count": 4,
   "metadata": {
    "id": "dF49xjTWPLh3"
   },
   "outputs": [],
   "source": [
    "import nltk\n",
    "from nltk.stem import WordNetLemmatizer\n",
    "import re\n",
    "from sklearn.model_selection import train_test_split\n",
    "from sklearn.feature_extraction.text import CountVectorizer, TfidfVectorizer\n",
    "from sklearn.naive_bayes import MultinomialNB\n",
    "from wordcloud import WordCloud\n",
    "from sklearn.metrics import classification_report, confusion_matrix, accuracy_score"
   ]
  },
  {
   "cell_type": "code",
   "execution_count": 5,
   "metadata": {
    "id": "JIBzUlK3C4Ji"
   },
   "outputs": [],
   "source": [
    "from nltk.corpus import stopwords\n",
    "from collections import Counter"
   ]
  },
  {
   "cell_type": "markdown",
   "metadata": {
    "id": "owhpEULVe07a"
   },
   "source": [
    "## Load dataset"
   ]
  },
  {
   "cell_type": "code",
   "execution_count": 7,
   "metadata": {
    "colab": {
     "base_uri": "https://localhost:8080/",
     "height": 423
    },
    "id": "TmtLFJXjazQS",
    "outputId": "1819112b-201b-4424-9708-539d6eef0c6b"
   },
   "outputs": [
    {
     "data": {
      "text/html": [
       "<div>\n",
       "<style scoped>\n",
       "    .dataframe tbody tr th:only-of-type {\n",
       "        vertical-align: middle;\n",
       "    }\n",
       "\n",
       "    .dataframe tbody tr th {\n",
       "        vertical-align: top;\n",
       "    }\n",
       "\n",
       "    .dataframe thead th {\n",
       "        text-align: right;\n",
       "    }\n",
       "</style>\n",
       "<table border=\"1\" class=\"dataframe\">\n",
       "  <thead>\n",
       "    <tr style=\"text-align: right;\">\n",
       "      <th></th>\n",
       "      <th>Unnamed: 0</th>\n",
       "      <th>name</th>\n",
       "      <th>rating</th>\n",
       "      <th>review_text</th>\n",
       "    </tr>\n",
       "  </thead>\n",
       "  <tbody>\n",
       "    <tr>\n",
       "      <th>0</th>\n",
       "      <td>0</td>\n",
       "      <td>Ashwani Jha</td>\n",
       "      <td>5.0 out of 5 stars</td>\n",
       "      <td>\\nUpgrading to the iPhone 16 was an absolute b...</td>\n",
       "    </tr>\n",
       "    <tr>\n",
       "      <th>1</th>\n",
       "      <td>1</td>\n",
       "      <td>Alok</td>\n",
       "      <td>5.0 out of 5 stars</td>\n",
       "      <td>\\nA good phone at a good price\\n</td>\n",
       "    </tr>\n",
       "    <tr>\n",
       "      <th>2</th>\n",
       "      <td>2</td>\n",
       "      <td>Amazon Customer</td>\n",
       "      <td>5.0 out of 5 stars</td>\n",
       "      <td>\\nBest product\\n</td>\n",
       "    </tr>\n",
       "    <tr>\n",
       "      <th>3</th>\n",
       "      <td>3</td>\n",
       "      <td>Ali</td>\n",
       "      <td>4.0 out of 5 stars</td>\n",
       "      <td>\\nNice product,\\n</td>\n",
       "    </tr>\n",
       "    <tr>\n",
       "      <th>4</th>\n",
       "      <td>4</td>\n",
       "      <td>Asif ahmef</td>\n",
       "      <td>5.0 out of 5 stars</td>\n",
       "      <td>\\nDefinately go for it......This colour also g...</td>\n",
       "    </tr>\n",
       "    <tr>\n",
       "      <th>...</th>\n",
       "      <td>...</td>\n",
       "      <td>...</td>\n",
       "      <td>...</td>\n",
       "      <td>...</td>\n",
       "    </tr>\n",
       "    <tr>\n",
       "      <th>348</th>\n",
       "      <td>348</td>\n",
       "      <td>Wajid Nazir</td>\n",
       "      <td>5.0 out of 5 stars</td>\n",
       "      <td>\\nI recently upgraded to the iPhone 16 Pro Max...</td>\n",
       "    </tr>\n",
       "    <tr>\n",
       "      <th>349</th>\n",
       "      <td>349</td>\n",
       "      <td>Ayush Gaikwad</td>\n",
       "      <td>5.0 out of 5 stars</td>\n",
       "      <td>\\nVery good it is the best phone, i would alwa...</td>\n",
       "    </tr>\n",
       "    <tr>\n",
       "      <th>350</th>\n",
       "      <td>350</td>\n",
       "      <td>GANESH KEYAL</td>\n",
       "      <td>1.0 out of 5 stars</td>\n",
       "      <td>\\niphone is mental same camra in iphone 14,15,...</td>\n",
       "    </tr>\n",
       "    <tr>\n",
       "      <th>351</th>\n",
       "      <td>351</td>\n",
       "      <td>Bikash</td>\n",
       "      <td>5.0 out of 5 stars</td>\n",
       "      <td>\\nGreat product. Colour,design,camera is just ...</td>\n",
       "    </tr>\n",
       "    <tr>\n",
       "      <th>352</th>\n",
       "      <td>352</td>\n",
       "      <td>MUBEEN</td>\n",
       "      <td>1.0 out of 5 stars</td>\n",
       "      <td>\\nSame to same as i phone 15 pro max every thi...</td>\n",
       "    </tr>\n",
       "  </tbody>\n",
       "</table>\n",
       "<p>353 rows × 4 columns</p>\n",
       "</div>"
      ],
      "text/plain": [
       "     Unnamed: 0             name              rating  \\\n",
       "0             0      Ashwani Jha  5.0 out of 5 stars   \n",
       "1             1             Alok  5.0 out of 5 stars   \n",
       "2             2  Amazon Customer  5.0 out of 5 stars   \n",
       "3             3              Ali  4.0 out of 5 stars   \n",
       "4             4       Asif ahmef  5.0 out of 5 stars   \n",
       "..          ...              ...                 ...   \n",
       "348         348      Wajid Nazir  5.0 out of 5 stars   \n",
       "349         349    Ayush Gaikwad  5.0 out of 5 stars   \n",
       "350         350     GANESH KEYAL  1.0 out of 5 stars   \n",
       "351         351           Bikash  5.0 out of 5 stars   \n",
       "352         352           MUBEEN  1.0 out of 5 stars   \n",
       "\n",
       "                                           review_text  \n",
       "0    \\nUpgrading to the iPhone 16 was an absolute b...  \n",
       "1                     \\nA good phone at a good price\\n  \n",
       "2                                     \\nBest product\\n  \n",
       "3                                    \\nNice product,\\n  \n",
       "4    \\nDefinately go for it......This colour also g...  \n",
       "..                                                 ...  \n",
       "348  \\nI recently upgraded to the iPhone 16 Pro Max...  \n",
       "349  \\nVery good it is the best phone, i would alwa...  \n",
       "350  \\niphone is mental same camra in iphone 14,15,...  \n",
       "351  \\nGreat product. Colour,design,camera is just ...  \n",
       "352  \\nSame to same as i phone 15 pro max every thi...  \n",
       "\n",
       "[353 rows x 4 columns]"
      ]
     },
     "execution_count": 7,
     "metadata": {},
     "output_type": "execute_result"
    }
   ],
   "source": [
    "df = pd.read_excel('https://raw.githubusercontent.com/snehuuu28/Sentiment-Analysis/main/IPhone%2016%20all%20variants%20Amazon%20reviews.xlsx')\n",
    "df"
   ]
  },
  {
   "cell_type": "markdown",
   "metadata": {
    "id": "Us7xIpnsfA51"
   },
   "source": [
    "## Understanding the features: -\n",
    "\n",
    "\n",
    "#### 1. name: Registered names of the customers giving the reviews\n",
    "#### 2. rating: Ratings provided by the customers\n",
    "#### 3. review_text: Customer reviews on Iphone 16\n"
   ]
  },
  {
   "cell_type": "markdown",
   "metadata": {
    "id": "fTPu0EuRhYyN"
   },
   "source": [
    "## EDA"
   ]
  },
  {
   "cell_type": "markdown",
   "metadata": {
    "id": "WSnMnKHBpNc6"
   },
   "source": [
    "#### 1. Initial EDA"
   ]
  },
  {
   "cell_type": "code",
   "execution_count": 11,
   "metadata": {
    "colab": {
     "base_uri": "https://localhost:8080/",
     "height": 209
    },
    "id": "P3GXUdwFa45b",
    "outputId": "91a9b40e-36f9-4a34-b1e0-f5b53bc9a504"
   },
   "outputs": [
    {
     "data": {
      "text/plain": [
       "Unnamed: 0      int64\n",
       "name           object\n",
       "rating         object\n",
       "review_text    object\n",
       "dtype: object"
      ]
     },
     "execution_count": 11,
     "metadata": {},
     "output_type": "execute_result"
    }
   ],
   "source": [
    "# Let's check the datatypes of features\n",
    "df.dtypes"
   ]
  },
  {
   "cell_type": "code",
   "execution_count": 12,
   "metadata": {
    "id": "fpQBoce4hxMq"
   },
   "outputs": [],
   "source": [
    "# We can remove 'Unnamed: 0' feature as it is not adding any value to our project.\n",
    "df.drop(columns=['Unnamed: 0'], inplace=True)"
   ]
  },
  {
   "cell_type": "code",
   "execution_count": 13,
   "metadata": {
    "id": "MUO09jckkVJb"
   },
   "outputs": [],
   "source": [
    "# Let's change the feature name 'review_text' to 'customer_reviews' for clear understanding\n",
    "\n",
    "df.rename(columns={'review_text':'customer_reviews'}, inplace=True)"
   ]
  },
  {
   "cell_type": "code",
   "execution_count": 14,
   "metadata": {
    "colab": {
     "base_uri": "https://localhost:8080/",
     "height": 423
    },
    "id": "Ml16FTKimXjx",
    "outputId": "73820f9f-7638-48eb-e7c8-701d39e99ebc"
   },
   "outputs": [
    {
     "data": {
      "text/html": [
       "<div>\n",
       "<style scoped>\n",
       "    .dataframe tbody tr th:only-of-type {\n",
       "        vertical-align: middle;\n",
       "    }\n",
       "\n",
       "    .dataframe tbody tr th {\n",
       "        vertical-align: top;\n",
       "    }\n",
       "\n",
       "    .dataframe thead th {\n",
       "        text-align: right;\n",
       "    }\n",
       "</style>\n",
       "<table border=\"1\" class=\"dataframe\">\n",
       "  <thead>\n",
       "    <tr style=\"text-align: right;\">\n",
       "      <th></th>\n",
       "      <th>name</th>\n",
       "      <th>rating</th>\n",
       "      <th>customer_reviews</th>\n",
       "    </tr>\n",
       "  </thead>\n",
       "  <tbody>\n",
       "    <tr>\n",
       "      <th>0</th>\n",
       "      <td>Ashwani Jha</td>\n",
       "      <td>5.0 out of 5 stars</td>\n",
       "      <td>\\nUpgrading to the iPhone 16 was an absolute b...</td>\n",
       "    </tr>\n",
       "    <tr>\n",
       "      <th>1</th>\n",
       "      <td>Alok</td>\n",
       "      <td>5.0 out of 5 stars</td>\n",
       "      <td>\\nA good phone at a good price\\n</td>\n",
       "    </tr>\n",
       "    <tr>\n",
       "      <th>2</th>\n",
       "      <td>Amazon Customer</td>\n",
       "      <td>5.0 out of 5 stars</td>\n",
       "      <td>\\nBest product\\n</td>\n",
       "    </tr>\n",
       "    <tr>\n",
       "      <th>3</th>\n",
       "      <td>Ali</td>\n",
       "      <td>4.0 out of 5 stars</td>\n",
       "      <td>\\nNice product,\\n</td>\n",
       "    </tr>\n",
       "    <tr>\n",
       "      <th>4</th>\n",
       "      <td>Asif ahmef</td>\n",
       "      <td>5.0 out of 5 stars</td>\n",
       "      <td>\\nDefinately go for it......This colour also g...</td>\n",
       "    </tr>\n",
       "    <tr>\n",
       "      <th>...</th>\n",
       "      <td>...</td>\n",
       "      <td>...</td>\n",
       "      <td>...</td>\n",
       "    </tr>\n",
       "    <tr>\n",
       "      <th>348</th>\n",
       "      <td>Wajid Nazir</td>\n",
       "      <td>5.0 out of 5 stars</td>\n",
       "      <td>\\nI recently upgraded to the iPhone 16 Pro Max...</td>\n",
       "    </tr>\n",
       "    <tr>\n",
       "      <th>349</th>\n",
       "      <td>Ayush Gaikwad</td>\n",
       "      <td>5.0 out of 5 stars</td>\n",
       "      <td>\\nVery good it is the best phone, i would alwa...</td>\n",
       "    </tr>\n",
       "    <tr>\n",
       "      <th>350</th>\n",
       "      <td>GANESH KEYAL</td>\n",
       "      <td>1.0 out of 5 stars</td>\n",
       "      <td>\\niphone is mental same camra in iphone 14,15,...</td>\n",
       "    </tr>\n",
       "    <tr>\n",
       "      <th>351</th>\n",
       "      <td>Bikash</td>\n",
       "      <td>5.0 out of 5 stars</td>\n",
       "      <td>\\nGreat product. Colour,design,camera is just ...</td>\n",
       "    </tr>\n",
       "    <tr>\n",
       "      <th>352</th>\n",
       "      <td>MUBEEN</td>\n",
       "      <td>1.0 out of 5 stars</td>\n",
       "      <td>\\nSame to same as i phone 15 pro max every thi...</td>\n",
       "    </tr>\n",
       "  </tbody>\n",
       "</table>\n",
       "<p>353 rows × 3 columns</p>\n",
       "</div>"
      ],
      "text/plain": [
       "                name              rating  \\\n",
       "0        Ashwani Jha  5.0 out of 5 stars   \n",
       "1               Alok  5.0 out of 5 stars   \n",
       "2    Amazon Customer  5.0 out of 5 stars   \n",
       "3                Ali  4.0 out of 5 stars   \n",
       "4         Asif ahmef  5.0 out of 5 stars   \n",
       "..               ...                 ...   \n",
       "348      Wajid Nazir  5.0 out of 5 stars   \n",
       "349    Ayush Gaikwad  5.0 out of 5 stars   \n",
       "350     GANESH KEYAL  1.0 out of 5 stars   \n",
       "351           Bikash  5.0 out of 5 stars   \n",
       "352           MUBEEN  1.0 out of 5 stars   \n",
       "\n",
       "                                      customer_reviews  \n",
       "0    \\nUpgrading to the iPhone 16 was an absolute b...  \n",
       "1                     \\nA good phone at a good price\\n  \n",
       "2                                     \\nBest product\\n  \n",
       "3                                    \\nNice product,\\n  \n",
       "4    \\nDefinately go for it......This colour also g...  \n",
       "..                                                 ...  \n",
       "348  \\nI recently upgraded to the iPhone 16 Pro Max...  \n",
       "349  \\nVery good it is the best phone, i would alwa...  \n",
       "350  \\niphone is mental same camra in iphone 14,15,...  \n",
       "351  \\nGreat product. Colour,design,camera is just ...  \n",
       "352  \\nSame to same as i phone 15 pro max every thi...  \n",
       "\n",
       "[353 rows x 3 columns]"
      ]
     },
     "execution_count": 14,
     "metadata": {},
     "output_type": "execute_result"
    }
   ],
   "source": [
    "df"
   ]
  },
  {
   "cell_type": "code",
   "execution_count": 15,
   "metadata": {
    "colab": {
     "base_uri": "https://localhost:8080/",
     "height": 178
    },
    "id": "iIaSjQiomeyK",
    "outputId": "01898dba-f6bb-4cee-c775-be66b25536f3"
   },
   "outputs": [
    {
     "data": {
      "text/plain": [
       "name                 0\n",
       "rating               0\n",
       "customer_reviews    13\n",
       "dtype: int64"
      ]
     },
     "execution_count": 15,
     "metadata": {},
     "output_type": "execute_result"
    }
   ],
   "source": [
    "# Check missing data in reviews feature\n",
    "\n",
    "df.isna().sum()"
   ]
  },
  {
   "cell_type": "code",
   "execution_count": 16,
   "metadata": {
    "id": "RE1LxTrAm58o"
   },
   "outputs": [],
   "source": [
    "# We can see we have 13 missing values in the reviews column.\n",
    "# We can simply remove these missing records as they are not in significantly higher number for our further analysis.\n",
    "\n",
    "df.dropna(subset=['customer_reviews'], inplace=True)"
   ]
  },
  {
   "cell_type": "code",
   "execution_count": 17,
   "metadata": {
    "colab": {
     "base_uri": "https://localhost:8080/",
     "height": 178
    },
    "id": "8q7IW3YBnYzO",
    "outputId": "d981d940-ffa2-4177-9a10-a368aab5793d"
   },
   "outputs": [
    {
     "data": {
      "text/plain": [
       "name                0\n",
       "rating              0\n",
       "customer_reviews    0\n",
       "dtype: int64"
      ]
     },
     "execution_count": 17,
     "metadata": {},
     "output_type": "execute_result"
    }
   ],
   "source": [
    "# Checking missing values have been removed\n",
    "\n",
    "df.isna().sum()"
   ]
  },
  {
   "cell_type": "code",
   "execution_count": 18,
   "metadata": {
    "id": "52edhccbngE-"
   },
   "outputs": [],
   "source": [
    "# We can now see that the dataset don't have any missing record"
   ]
  },
  {
   "cell_type": "code",
   "execution_count": 19,
   "metadata": {
    "colab": {
     "base_uri": "https://localhost:8080/",
     "height": 423
    },
    "id": "PynPOGdrnxSu",
    "outputId": "2d3ff07a-5cfc-4dc9-f373-4dcf5f0401dd"
   },
   "outputs": [
    {
     "data": {
      "text/html": [
       "<div>\n",
       "<style scoped>\n",
       "    .dataframe tbody tr th:only-of-type {\n",
       "        vertical-align: middle;\n",
       "    }\n",
       "\n",
       "    .dataframe tbody tr th {\n",
       "        vertical-align: top;\n",
       "    }\n",
       "\n",
       "    .dataframe thead th {\n",
       "        text-align: right;\n",
       "    }\n",
       "</style>\n",
       "<table border=\"1\" class=\"dataframe\">\n",
       "  <thead>\n",
       "    <tr style=\"text-align: right;\">\n",
       "      <th></th>\n",
       "      <th>name</th>\n",
       "      <th>rating</th>\n",
       "      <th>customer_reviews</th>\n",
       "    </tr>\n",
       "  </thead>\n",
       "  <tbody>\n",
       "    <tr>\n",
       "      <th>0</th>\n",
       "      <td>Ashwani Jha</td>\n",
       "      <td>5.0 out of 5 stars</td>\n",
       "      <td>\\nUpgrading to the iPhone 16 was an absolute b...</td>\n",
       "    </tr>\n",
       "    <tr>\n",
       "      <th>1</th>\n",
       "      <td>Alok</td>\n",
       "      <td>5.0 out of 5 stars</td>\n",
       "      <td>\\nA good phone at a good price\\n</td>\n",
       "    </tr>\n",
       "    <tr>\n",
       "      <th>2</th>\n",
       "      <td>Amazon Customer</td>\n",
       "      <td>5.0 out of 5 stars</td>\n",
       "      <td>\\nBest product\\n</td>\n",
       "    </tr>\n",
       "    <tr>\n",
       "      <th>3</th>\n",
       "      <td>Ali</td>\n",
       "      <td>4.0 out of 5 stars</td>\n",
       "      <td>\\nNice product,\\n</td>\n",
       "    </tr>\n",
       "    <tr>\n",
       "      <th>4</th>\n",
       "      <td>Asif ahmef</td>\n",
       "      <td>5.0 out of 5 stars</td>\n",
       "      <td>\\nDefinately go for it......This colour also g...</td>\n",
       "    </tr>\n",
       "    <tr>\n",
       "      <th>...</th>\n",
       "      <td>...</td>\n",
       "      <td>...</td>\n",
       "      <td>...</td>\n",
       "    </tr>\n",
       "    <tr>\n",
       "      <th>335</th>\n",
       "      <td>Wajid Nazir</td>\n",
       "      <td>5.0 out of 5 stars</td>\n",
       "      <td>\\nI recently upgraded to the iPhone 16 Pro Max...</td>\n",
       "    </tr>\n",
       "    <tr>\n",
       "      <th>336</th>\n",
       "      <td>Ayush Gaikwad</td>\n",
       "      <td>5.0 out of 5 stars</td>\n",
       "      <td>\\nVery good it is the best phone, i would alwa...</td>\n",
       "    </tr>\n",
       "    <tr>\n",
       "      <th>337</th>\n",
       "      <td>GANESH KEYAL</td>\n",
       "      <td>1.0 out of 5 stars</td>\n",
       "      <td>\\niphone is mental same camra in iphone 14,15,...</td>\n",
       "    </tr>\n",
       "    <tr>\n",
       "      <th>338</th>\n",
       "      <td>Bikash</td>\n",
       "      <td>5.0 out of 5 stars</td>\n",
       "      <td>\\nGreat product. Colour,design,camera is just ...</td>\n",
       "    </tr>\n",
       "    <tr>\n",
       "      <th>339</th>\n",
       "      <td>MUBEEN</td>\n",
       "      <td>1.0 out of 5 stars</td>\n",
       "      <td>\\nSame to same as i phone 15 pro max every thi...</td>\n",
       "    </tr>\n",
       "  </tbody>\n",
       "</table>\n",
       "<p>340 rows × 3 columns</p>\n",
       "</div>"
      ],
      "text/plain": [
       "                name              rating  \\\n",
       "0        Ashwani Jha  5.0 out of 5 stars   \n",
       "1               Alok  5.0 out of 5 stars   \n",
       "2    Amazon Customer  5.0 out of 5 stars   \n",
       "3                Ali  4.0 out of 5 stars   \n",
       "4         Asif ahmef  5.0 out of 5 stars   \n",
       "..               ...                 ...   \n",
       "335      Wajid Nazir  5.0 out of 5 stars   \n",
       "336    Ayush Gaikwad  5.0 out of 5 stars   \n",
       "337     GANESH KEYAL  1.0 out of 5 stars   \n",
       "338           Bikash  5.0 out of 5 stars   \n",
       "339           MUBEEN  1.0 out of 5 stars   \n",
       "\n",
       "                                      customer_reviews  \n",
       "0    \\nUpgrading to the iPhone 16 was an absolute b...  \n",
       "1                     \\nA good phone at a good price\\n  \n",
       "2                                     \\nBest product\\n  \n",
       "3                                    \\nNice product,\\n  \n",
       "4    \\nDefinately go for it......This colour also g...  \n",
       "..                                                 ...  \n",
       "335  \\nI recently upgraded to the iPhone 16 Pro Max...  \n",
       "336  \\nVery good it is the best phone, i would alwa...  \n",
       "337  \\niphone is mental same camra in iphone 14,15,...  \n",
       "338  \\nGreat product. Colour,design,camera is just ...  \n",
       "339  \\nSame to same as i phone 15 pro max every thi...  \n",
       "\n",
       "[340 rows x 3 columns]"
      ]
     },
     "execution_count": 19,
     "metadata": {},
     "output_type": "execute_result"
    }
   ],
   "source": [
    "# Let's reset the index after missing records removal\n",
    "\n",
    "df.reset_index(drop=True, inplace=True)\n",
    "df"
   ]
  },
  {
   "cell_type": "code",
   "execution_count": 20,
   "metadata": {
    "colab": {
     "base_uri": "https://localhost:8080/"
    },
    "id": "eo5V6fOwVpet",
    "outputId": "403637a1-3e61-4f27-f3aa-34cb7d55f938"
   },
   "outputs": [
    {
     "data": {
      "text/plain": [
       "0"
      ]
     },
     "execution_count": 20,
     "metadata": {},
     "output_type": "execute_result"
    }
   ],
   "source": [
    "df.duplicated().sum()"
   ]
  },
  {
   "cell_type": "code",
   "execution_count": 21,
   "metadata": {
    "id": "ZSXNNGtdVvY3"
   },
   "outputs": [],
   "source": [
    "# We can see there are no duplicate records extracted from the Amazon website."
   ]
  },
  {
   "cell_type": "code",
   "execution_count": 22,
   "metadata": {
    "colab": {
     "base_uri": "https://localhost:8080/",
     "height": 206
    },
    "id": "8CuPPEyqJpH5",
    "outputId": "6cd98234-cec2-44d8-ce3c-4e4d05db236c"
   },
   "outputs": [
    {
     "data": {
      "text/html": [
       "<div>\n",
       "<style scoped>\n",
       "    .dataframe tbody tr th:only-of-type {\n",
       "        vertical-align: middle;\n",
       "    }\n",
       "\n",
       "    .dataframe tbody tr th {\n",
       "        vertical-align: top;\n",
       "    }\n",
       "\n",
       "    .dataframe thead th {\n",
       "        text-align: right;\n",
       "    }\n",
       "</style>\n",
       "<table border=\"1\" class=\"dataframe\">\n",
       "  <thead>\n",
       "    <tr style=\"text-align: right;\">\n",
       "      <th></th>\n",
       "      <th>name</th>\n",
       "      <th>rating</th>\n",
       "      <th>customer_reviews</th>\n",
       "    </tr>\n",
       "  </thead>\n",
       "  <tbody>\n",
       "    <tr>\n",
       "      <th>0</th>\n",
       "      <td>Ashwani Jha</td>\n",
       "      <td>5.0</td>\n",
       "      <td>\\nUpgrading to the iPhone 16 was an absolute b...</td>\n",
       "    </tr>\n",
       "    <tr>\n",
       "      <th>1</th>\n",
       "      <td>Alok</td>\n",
       "      <td>5.0</td>\n",
       "      <td>\\nA good phone at a good price\\n</td>\n",
       "    </tr>\n",
       "    <tr>\n",
       "      <th>2</th>\n",
       "      <td>Amazon Customer</td>\n",
       "      <td>5.0</td>\n",
       "      <td>\\nBest product\\n</td>\n",
       "    </tr>\n",
       "    <tr>\n",
       "      <th>3</th>\n",
       "      <td>Ali</td>\n",
       "      <td>4.0</td>\n",
       "      <td>\\nNice product,\\n</td>\n",
       "    </tr>\n",
       "    <tr>\n",
       "      <th>4</th>\n",
       "      <td>Asif ahmef</td>\n",
       "      <td>5.0</td>\n",
       "      <td>\\nDefinately go for it......This colour also g...</td>\n",
       "    </tr>\n",
       "  </tbody>\n",
       "</table>\n",
       "</div>"
      ],
      "text/plain": [
       "              name  rating                                   customer_reviews\n",
       "0      Ashwani Jha     5.0  \\nUpgrading to the iPhone 16 was an absolute b...\n",
       "1             Alok     5.0                   \\nA good phone at a good price\\n\n",
       "2  Amazon Customer     5.0                                   \\nBest product\\n\n",
       "3              Ali     4.0                                  \\nNice product,\\n\n",
       "4       Asif ahmef     5.0  \\nDefinately go for it......This colour also g..."
      ]
     },
     "execution_count": 22,
     "metadata": {},
     "output_type": "execute_result"
    }
   ],
   "source": [
    "# Extract numerical ratings from text and convert to float\n",
    "\n",
    "df[\"rating\"] = df[\"rating\"].astype(str).str.extract(r\"(\\d+\\.\\d+)\").astype(float)\n",
    "df.head()"
   ]
  },
  {
   "cell_type": "code",
   "execution_count": 23,
   "metadata": {
    "id": "a8NfpsiwLJEv"
   },
   "outputs": [],
   "source": [
    "# Import libraries for sentiment analysis\n",
    "\n",
    "from nltk.sentiment.vader import SentimentIntensityAnalyzer"
   ]
  },
  {
   "cell_type": "code",
   "execution_count": 24,
   "metadata": {
    "colab": {
     "base_uri": "https://localhost:8080/"
    },
    "id": "0Z7y5jVvQMFH",
    "outputId": "07bb5284-230c-4ee1-f623-159e17cbf125"
   },
   "outputs": [
    {
     "name": "stderr",
     "output_type": "stream",
     "text": [
      "[nltk_data] Downloading package vader_lexicon to\n",
      "[nltk_data]     C:\\Users\\user\\AppData\\Roaming\\nltk_data...\n",
      "[nltk_data]   Package vader_lexicon is already up-to-date!\n"
     ]
    },
    {
     "data": {
      "text/plain": [
       "True"
      ]
     },
     "execution_count": 24,
     "metadata": {},
     "output_type": "execute_result"
    }
   ],
   "source": [
    "nltk.download('vader_lexicon')"
   ]
  },
  {
   "cell_type": "code",
   "execution_count": 25,
   "metadata": {
    "id": "IRCFtSfXQL-t"
   },
   "outputs": [],
   "source": [
    "analyzer = SentimentIntensityAnalyzer()"
   ]
  },
  {
   "cell_type": "code",
   "execution_count": 26,
   "metadata": {
    "id": "Ip4odpZ0QL4G"
   },
   "outputs": [],
   "source": [
    "def analyze_sentiment(Data):\n",
    "  scores = analyzer.polarity_scores(Data)\n",
    "  if scores['compound'] >= 0.05:\n",
    "    return 'Positive'\n",
    "  else:\n",
    "    return 'Negative'"
   ]
  },
  {
   "cell_type": "code",
   "execution_count": 27,
   "metadata": {
    "colab": {
     "base_uri": "https://localhost:8080/",
     "height": 423
    },
    "id": "wsgZQD5MQLuI",
    "outputId": "ae29be3b-57c5-463f-9c16-a40e23e63b42"
   },
   "outputs": [
    {
     "data": {
      "text/html": [
       "<div>\n",
       "<style scoped>\n",
       "    .dataframe tbody tr th:only-of-type {\n",
       "        vertical-align: middle;\n",
       "    }\n",
       "\n",
       "    .dataframe tbody tr th {\n",
       "        vertical-align: top;\n",
       "    }\n",
       "\n",
       "    .dataframe thead th {\n",
       "        text-align: right;\n",
       "    }\n",
       "</style>\n",
       "<table border=\"1\" class=\"dataframe\">\n",
       "  <thead>\n",
       "    <tr style=\"text-align: right;\">\n",
       "      <th></th>\n",
       "      <th>name</th>\n",
       "      <th>rating</th>\n",
       "      <th>customer_reviews</th>\n",
       "      <th>sentiment</th>\n",
       "    </tr>\n",
       "  </thead>\n",
       "  <tbody>\n",
       "    <tr>\n",
       "      <th>0</th>\n",
       "      <td>Ashwani Jha</td>\n",
       "      <td>5.0</td>\n",
       "      <td>\\nUpgrading to the iPhone 16 was an absolute b...</td>\n",
       "      <td>Positive</td>\n",
       "    </tr>\n",
       "    <tr>\n",
       "      <th>1</th>\n",
       "      <td>Alok</td>\n",
       "      <td>5.0</td>\n",
       "      <td>\\nA good phone at a good price\\n</td>\n",
       "      <td>Positive</td>\n",
       "    </tr>\n",
       "    <tr>\n",
       "      <th>2</th>\n",
       "      <td>Amazon Customer</td>\n",
       "      <td>5.0</td>\n",
       "      <td>\\nBest product\\n</td>\n",
       "      <td>Positive</td>\n",
       "    </tr>\n",
       "    <tr>\n",
       "      <th>3</th>\n",
       "      <td>Ali</td>\n",
       "      <td>4.0</td>\n",
       "      <td>\\nNice product,\\n</td>\n",
       "      <td>Positive</td>\n",
       "    </tr>\n",
       "    <tr>\n",
       "      <th>4</th>\n",
       "      <td>Asif ahmef</td>\n",
       "      <td>5.0</td>\n",
       "      <td>\\nDefinately go for it......This colour also g...</td>\n",
       "      <td>Positive</td>\n",
       "    </tr>\n",
       "    <tr>\n",
       "      <th>...</th>\n",
       "      <td>...</td>\n",
       "      <td>...</td>\n",
       "      <td>...</td>\n",
       "      <td>...</td>\n",
       "    </tr>\n",
       "    <tr>\n",
       "      <th>335</th>\n",
       "      <td>Wajid Nazir</td>\n",
       "      <td>5.0</td>\n",
       "      <td>\\nI recently upgraded to the iPhone 16 Pro Max...</td>\n",
       "      <td>Positive</td>\n",
       "    </tr>\n",
       "    <tr>\n",
       "      <th>336</th>\n",
       "      <td>Ayush Gaikwad</td>\n",
       "      <td>5.0</td>\n",
       "      <td>\\nVery good it is the best phone, i would alwa...</td>\n",
       "      <td>Positive</td>\n",
       "    </tr>\n",
       "    <tr>\n",
       "      <th>337</th>\n",
       "      <td>GANESH KEYAL</td>\n",
       "      <td>1.0</td>\n",
       "      <td>\\niphone is mental same camra in iphone 14,15,...</td>\n",
       "      <td>Positive</td>\n",
       "    </tr>\n",
       "    <tr>\n",
       "      <th>338</th>\n",
       "      <td>Bikash</td>\n",
       "      <td>5.0</td>\n",
       "      <td>\\nGreat product. Colour,design,camera is just ...</td>\n",
       "      <td>Positive</td>\n",
       "    </tr>\n",
       "    <tr>\n",
       "      <th>339</th>\n",
       "      <td>MUBEEN</td>\n",
       "      <td>1.0</td>\n",
       "      <td>\\nSame to same as i phone 15 pro max every thi...</td>\n",
       "      <td>Positive</td>\n",
       "    </tr>\n",
       "  </tbody>\n",
       "</table>\n",
       "<p>340 rows × 4 columns</p>\n",
       "</div>"
      ],
      "text/plain": [
       "                name  rating  \\\n",
       "0        Ashwani Jha     5.0   \n",
       "1               Alok     5.0   \n",
       "2    Amazon Customer     5.0   \n",
       "3                Ali     4.0   \n",
       "4         Asif ahmef     5.0   \n",
       "..               ...     ...   \n",
       "335      Wajid Nazir     5.0   \n",
       "336    Ayush Gaikwad     5.0   \n",
       "337     GANESH KEYAL     1.0   \n",
       "338           Bikash     5.0   \n",
       "339           MUBEEN     1.0   \n",
       "\n",
       "                                      customer_reviews sentiment  \n",
       "0    \\nUpgrading to the iPhone 16 was an absolute b...  Positive  \n",
       "1                     \\nA good phone at a good price\\n  Positive  \n",
       "2                                     \\nBest product\\n  Positive  \n",
       "3                                    \\nNice product,\\n  Positive  \n",
       "4    \\nDefinately go for it......This colour also g...  Positive  \n",
       "..                                                 ...       ...  \n",
       "335  \\nI recently upgraded to the iPhone 16 Pro Max...  Positive  \n",
       "336  \\nVery good it is the best phone, i would alwa...  Positive  \n",
       "337  \\niphone is mental same camra in iphone 14,15,...  Positive  \n",
       "338  \\nGreat product. Colour,design,camera is just ...  Positive  \n",
       "339  \\nSame to same as i phone 15 pro max every thi...  Positive  \n",
       "\n",
       "[340 rows x 4 columns]"
      ]
     },
     "execution_count": 27,
     "metadata": {},
     "output_type": "execute_result"
    }
   ],
   "source": [
    "df['sentiment'] = df['customer_reviews'].apply(analyze_sentiment)\n",
    "df"
   ]
  },
  {
   "cell_type": "markdown",
   "metadata": {
    "id": "4yMqxjVRwKsr"
   },
   "source": [
    "#### 2. Text cleaning"
   ]
  },
  {
   "cell_type": "code",
   "execution_count": 29,
   "metadata": {
    "id": "U418KVKuyBpG"
   },
   "outputs": [],
   "source": [
    "# Let's clean the text by removing unnecessary characters, converting it to lowercase, split into words, remove common words,\n",
    "# reduce words to their base form, and store the processed text for further use."
   ]
  },
  {
   "cell_type": "code",
   "execution_count": 30,
   "metadata": {
    "id": "eiLwsF1TwOYF"
   },
   "outputs": [],
   "source": [
    "lemma = WordNetLemmatizer()"
   ]
  },
  {
   "cell_type": "code",
   "execution_count": 31,
   "metadata": {
    "colab": {
     "base_uri": "https://localhost:8080/"
    },
    "id": "xqmUfT01wOPe",
    "outputId": "541d870e-89db-4c85-8078-b896496920fe"
   },
   "outputs": [
    {
     "data": {
      "text/plain": [
       "340"
      ]
     },
     "execution_count": 31,
     "metadata": {},
     "output_type": "execute_result"
    }
   ],
   "source": [
    "len(df)"
   ]
  },
  {
   "cell_type": "code",
   "execution_count": 32,
   "metadata": {
    "colab": {
     "base_uri": "https://localhost:8080/"
    },
    "id": "egy3o-wVwOB4",
    "outputId": "8207b2cf-67ee-40bd-f1a9-2cd016cee7ea"
   },
   "outputs": [
    {
     "name": "stderr",
     "output_type": "stream",
     "text": [
      "[nltk_data] Downloading package stopwords to\n",
      "[nltk_data]     C:\\Users\\user\\AppData\\Roaming\\nltk_data...\n",
      "[nltk_data]   Package stopwords is already up-to-date!\n",
      "[nltk_data] Downloading package wordnet to\n",
      "[nltk_data]     C:\\Users\\user\\AppData\\Roaming\\nltk_data...\n",
      "[nltk_data]   Package wordnet is already up-to-date!\n"
     ]
    },
    {
     "data": {
      "text/plain": [
       "True"
      ]
     },
     "execution_count": 32,
     "metadata": {},
     "output_type": "execute_result"
    }
   ],
   "source": [
    "nltk.download('stopwords')\n",
    "nltk.download('wordnet')"
   ]
  },
  {
   "cell_type": "code",
   "execution_count": 33,
   "metadata": {
    "id": "kaI9i6dnQ9vy"
   },
   "outputs": [],
   "source": [
    "# Define stopwords and lemmatizer\n",
    "stop_words = set(stopwords.words(\"english\")) - {\"not\", \"never\", \"no\", \"very\", \"too\", \"few\", \"more\", \"less\"}\n",
    "lemmatizer = WordNetLemmatizer()"
   ]
  },
  {
   "cell_type": "code",
   "execution_count": 34,
   "metadata": {
    "id": "l4q3r6jf1KBg"
   },
   "outputs": [],
   "source": [
    "def clean_text(text):\n",
    "        text = re.sub(r'[^a-zA-Z\\s]', '', text).lower() # Remove punctuation and convert to lowercase\n",
    "        text = ' '.join([lemmatizer.lemmatize(word) for word in text.split() if word not in stop_words]) # Lemmatization & Remove stop words\n",
    "        return text"
   ]
  },
  {
   "cell_type": "code",
   "execution_count": 35,
   "metadata": {
    "colab": {
     "base_uri": "https://localhost:8080/",
     "height": 423
    },
    "id": "Y3o3rB79xldU",
    "outputId": "2a45119a-20e5-4ccd-bbfc-d382ad512a4e"
   },
   "outputs": [
    {
     "data": {
      "text/html": [
       "<div>\n",
       "<style scoped>\n",
       "    .dataframe tbody tr th:only-of-type {\n",
       "        vertical-align: middle;\n",
       "    }\n",
       "\n",
       "    .dataframe tbody tr th {\n",
       "        vertical-align: top;\n",
       "    }\n",
       "\n",
       "    .dataframe thead th {\n",
       "        text-align: right;\n",
       "    }\n",
       "</style>\n",
       "<table border=\"1\" class=\"dataframe\">\n",
       "  <thead>\n",
       "    <tr style=\"text-align: right;\">\n",
       "      <th></th>\n",
       "      <th>name</th>\n",
       "      <th>rating</th>\n",
       "      <th>customer_reviews</th>\n",
       "      <th>sentiment</th>\n",
       "      <th>cleaned_reviews</th>\n",
       "    </tr>\n",
       "  </thead>\n",
       "  <tbody>\n",
       "    <tr>\n",
       "      <th>0</th>\n",
       "      <td>Ashwani Jha</td>\n",
       "      <td>5.0</td>\n",
       "      <td>\\nUpgrading to the iPhone 16 was an absolute b...</td>\n",
       "      <td>Positive</td>\n",
       "      <td>upgrading iphone absolute breeze apple refined...</td>\n",
       "    </tr>\n",
       "    <tr>\n",
       "      <th>1</th>\n",
       "      <td>Alok</td>\n",
       "      <td>5.0</td>\n",
       "      <td>\\nA good phone at a good price\\n</td>\n",
       "      <td>Positive</td>\n",
       "      <td>good phone good price</td>\n",
       "    </tr>\n",
       "    <tr>\n",
       "      <th>2</th>\n",
       "      <td>Amazon Customer</td>\n",
       "      <td>5.0</td>\n",
       "      <td>\\nBest product\\n</td>\n",
       "      <td>Positive</td>\n",
       "      <td>best product</td>\n",
       "    </tr>\n",
       "    <tr>\n",
       "      <th>3</th>\n",
       "      <td>Ali</td>\n",
       "      <td>4.0</td>\n",
       "      <td>\\nNice product,\\n</td>\n",
       "      <td>Positive</td>\n",
       "      <td>nice product</td>\n",
       "    </tr>\n",
       "    <tr>\n",
       "      <th>4</th>\n",
       "      <td>Asif ahmef</td>\n",
       "      <td>5.0</td>\n",
       "      <td>\\nDefinately go for it......This colour also g...</td>\n",
       "      <td>Positive</td>\n",
       "      <td>definately go itthis colour also give amezing ...</td>\n",
       "    </tr>\n",
       "    <tr>\n",
       "      <th>...</th>\n",
       "      <td>...</td>\n",
       "      <td>...</td>\n",
       "      <td>...</td>\n",
       "      <td>...</td>\n",
       "      <td>...</td>\n",
       "    </tr>\n",
       "    <tr>\n",
       "      <th>335</th>\n",
       "      <td>Wajid Nazir</td>\n",
       "      <td>5.0</td>\n",
       "      <td>\\nI recently upgraded to the iPhone 16 Pro Max...</td>\n",
       "      <td>Positive</td>\n",
       "      <td>recently upgraded iphone pro max gb exceeded e...</td>\n",
       "    </tr>\n",
       "    <tr>\n",
       "      <th>336</th>\n",
       "      <td>Ayush Gaikwad</td>\n",
       "      <td>5.0</td>\n",
       "      <td>\\nVery good it is the best phone, i would alwa...</td>\n",
       "      <td>Positive</td>\n",
       "      <td>very good best phone would always consider buy...</td>\n",
       "    </tr>\n",
       "    <tr>\n",
       "      <th>337</th>\n",
       "      <td>GANESH KEYAL</td>\n",
       "      <td>1.0</td>\n",
       "      <td>\\niphone is mental same camra in iphone 14,15,...</td>\n",
       "      <td>Positive</td>\n",
       "      <td>iphone mental camra iphone world best phone sa...</td>\n",
       "    </tr>\n",
       "    <tr>\n",
       "      <th>338</th>\n",
       "      <td>Bikash</td>\n",
       "      <td>5.0</td>\n",
       "      <td>\\nGreat product. Colour,design,camera is just ...</td>\n",
       "      <td>Positive</td>\n",
       "      <td>great product colourdesigncamera wow battery b...</td>\n",
       "    </tr>\n",
       "    <tr>\n",
       "      <th>339</th>\n",
       "      <td>MUBEEN</td>\n",
       "      <td>1.0</td>\n",
       "      <td>\\nSame to same as i phone 15 pro max every thi...</td>\n",
       "      <td>Positive</td>\n",
       "      <td>phone pro max every thing except video button ...</td>\n",
       "    </tr>\n",
       "  </tbody>\n",
       "</table>\n",
       "<p>340 rows × 5 columns</p>\n",
       "</div>"
      ],
      "text/plain": [
       "                name  rating  \\\n",
       "0        Ashwani Jha     5.0   \n",
       "1               Alok     5.0   \n",
       "2    Amazon Customer     5.0   \n",
       "3                Ali     4.0   \n",
       "4         Asif ahmef     5.0   \n",
       "..               ...     ...   \n",
       "335      Wajid Nazir     5.0   \n",
       "336    Ayush Gaikwad     5.0   \n",
       "337     GANESH KEYAL     1.0   \n",
       "338           Bikash     5.0   \n",
       "339           MUBEEN     1.0   \n",
       "\n",
       "                                      customer_reviews sentiment  \\\n",
       "0    \\nUpgrading to the iPhone 16 was an absolute b...  Positive   \n",
       "1                     \\nA good phone at a good price\\n  Positive   \n",
       "2                                     \\nBest product\\n  Positive   \n",
       "3                                    \\nNice product,\\n  Positive   \n",
       "4    \\nDefinately go for it......This colour also g...  Positive   \n",
       "..                                                 ...       ...   \n",
       "335  \\nI recently upgraded to the iPhone 16 Pro Max...  Positive   \n",
       "336  \\nVery good it is the best phone, i would alwa...  Positive   \n",
       "337  \\niphone is mental same camra in iphone 14,15,...  Positive   \n",
       "338  \\nGreat product. Colour,design,camera is just ...  Positive   \n",
       "339  \\nSame to same as i phone 15 pro max every thi...  Positive   \n",
       "\n",
       "                                       cleaned_reviews  \n",
       "0    upgrading iphone absolute breeze apple refined...  \n",
       "1                                good phone good price  \n",
       "2                                         best product  \n",
       "3                                         nice product  \n",
       "4    definately go itthis colour also give amezing ...  \n",
       "..                                                 ...  \n",
       "335  recently upgraded iphone pro max gb exceeded e...  \n",
       "336  very good best phone would always consider buy...  \n",
       "337  iphone mental camra iphone world best phone sa...  \n",
       "338  great product colourdesigncamera wow battery b...  \n",
       "339  phone pro max every thing except video button ...  \n",
       "\n",
       "[340 rows x 5 columns]"
      ]
     },
     "execution_count": 35,
     "metadata": {},
     "output_type": "execute_result"
    }
   ],
   "source": [
    "# Generate a new feature with cleaned text of customer reviews\n",
    "df['cleaned_reviews'] = df['customer_reviews'].apply(clean_text)\n",
    "df"
   ]
  },
  {
   "cell_type": "code",
   "execution_count": 36,
   "metadata": {
    "id": "FAsn5ehkxlZ0"
   },
   "outputs": [],
   "source": [
    "# Remove redundant feature -> customer_reviews\n",
    "\n",
    "df.drop(columns=['customer_reviews'], inplace=True)"
   ]
  },
  {
   "cell_type": "code",
   "execution_count": 37,
   "metadata": {
    "colab": {
     "base_uri": "https://localhost:8080/",
     "height": 206
    },
    "id": "3QtBjAec18nF",
    "outputId": "0b533e60-41d7-486c-ff97-1db9e5ad979b"
   },
   "outputs": [
    {
     "data": {
      "text/html": [
       "<div>\n",
       "<style scoped>\n",
       "    .dataframe tbody tr th:only-of-type {\n",
       "        vertical-align: middle;\n",
       "    }\n",
       "\n",
       "    .dataframe tbody tr th {\n",
       "        vertical-align: top;\n",
       "    }\n",
       "\n",
       "    .dataframe thead th {\n",
       "        text-align: right;\n",
       "    }\n",
       "</style>\n",
       "<table border=\"1\" class=\"dataframe\">\n",
       "  <thead>\n",
       "    <tr style=\"text-align: right;\">\n",
       "      <th></th>\n",
       "      <th>name</th>\n",
       "      <th>rating</th>\n",
       "      <th>sentiment</th>\n",
       "      <th>cleaned_reviews</th>\n",
       "    </tr>\n",
       "  </thead>\n",
       "  <tbody>\n",
       "    <tr>\n",
       "      <th>0</th>\n",
       "      <td>Ashwani Jha</td>\n",
       "      <td>5.0</td>\n",
       "      <td>Positive</td>\n",
       "      <td>upgrading iphone absolute breeze apple refined...</td>\n",
       "    </tr>\n",
       "    <tr>\n",
       "      <th>1</th>\n",
       "      <td>Alok</td>\n",
       "      <td>5.0</td>\n",
       "      <td>Positive</td>\n",
       "      <td>good phone good price</td>\n",
       "    </tr>\n",
       "    <tr>\n",
       "      <th>2</th>\n",
       "      <td>Amazon Customer</td>\n",
       "      <td>5.0</td>\n",
       "      <td>Positive</td>\n",
       "      <td>best product</td>\n",
       "    </tr>\n",
       "    <tr>\n",
       "      <th>3</th>\n",
       "      <td>Ali</td>\n",
       "      <td>4.0</td>\n",
       "      <td>Positive</td>\n",
       "      <td>nice product</td>\n",
       "    </tr>\n",
       "    <tr>\n",
       "      <th>4</th>\n",
       "      <td>Asif ahmef</td>\n",
       "      <td>5.0</td>\n",
       "      <td>Positive</td>\n",
       "      <td>definately go itthis colour also give amezing ...</td>\n",
       "    </tr>\n",
       "  </tbody>\n",
       "</table>\n",
       "</div>"
      ],
      "text/plain": [
       "              name  rating sentiment  \\\n",
       "0      Ashwani Jha     5.0  Positive   \n",
       "1             Alok     5.0  Positive   \n",
       "2  Amazon Customer     5.0  Positive   \n",
       "3              Ali     4.0  Positive   \n",
       "4       Asif ahmef     5.0  Positive   \n",
       "\n",
       "                                     cleaned_reviews  \n",
       "0  upgrading iphone absolute breeze apple refined...  \n",
       "1                              good phone good price  \n",
       "2                                       best product  \n",
       "3                                       nice product  \n",
       "4  definately go itthis colour also give amezing ...  "
      ]
     },
     "execution_count": 37,
     "metadata": {},
     "output_type": "execute_result"
    }
   ],
   "source": [
    "df.head()"
   ]
  },
  {
   "cell_type": "markdown",
   "metadata": {
    "id": "4ePZKy9OKmH3"
   },
   "source": [
    "#### 3. Rating distribution"
   ]
  },
  {
   "cell_type": "code",
   "execution_count": 39,
   "metadata": {
    "colab": {
     "base_uri": "https://localhost:8080/",
     "height": 741
    },
    "id": "8224JDozKJH5",
    "outputId": "fe1645c1-3cdf-4781-8792-b8631ac96110"
   },
   "outputs": [
    {
     "data": {
      "text/plain": [
       "rating\n",
       "5.0    193\n",
       "1.0     65\n",
       "4.0     52\n",
       "3.0     20\n",
       "2.0     10\n",
       "Name: count, dtype: int64"
      ]
     },
     "execution_count": 39,
     "metadata": {},
     "output_type": "execute_result"
    },
    {
     "data": {
      "image/png": "[encoded data removed]",
      "text/plain": [
       "<Figure size 640x480 with 1 Axes>"
      ]
     },
     "metadata": {},
     "output_type": "display_data"
    }
   ],
   "source": [
    "sns.countplot(x='rating', palette='Set2', data=df)\n",
    "plt.title('Distribution of Ratings', size=20)\n",
    "plt.xlabel('Ratings', size=15)\n",
    "plt.ylabel('Count', size=15)\n",
    "\n",
    "df['rating'].value_counts()"
   ]
  },
  {
   "cell_type": "code",
   "execution_count": 40,
   "metadata": {
    "id": "nfmspQEhKI7J"
   },
   "outputs": [],
   "source": [
    "# Interpretation of Ratings Distribution: -\n",
    "\n",
    "# 1. A large majority of the reviews (193 out of 340) have a rating of 5.0, indicating a strong positive sentiment\n",
    "#    towards the product.\n",
    "# 2. While positive ratings dominate, there's a notable number of 1.0 ratings (65), suggesting some users\n",
    "#    have negative experiences.\n",
    "# 3. The counts for ratings 2.0, 3.0, and 4.0 are relatively low compared to 1.0 and 5.0, implying most users\n",
    "#    have either strongly positive or strongly negative opinions."
   ]
  },
  {
   "cell_type": "markdown",
   "metadata": {
    "id": "-CVlN8vF2XkT"
   },
   "source": [
    "#### 4. Text length"
   ]
  },
  {
   "cell_type": "code",
   "execution_count": 42,
   "metadata": {
    "id": "5FR43zFPoLMw"
   },
   "outputs": [],
   "source": [
    "# Creating the review length feature after text cleaning process and not before text cleaning because: -\n",
    "\n",
    "# 1. By calculating review length after cleaning, we capture the length of the meaningful content. Cleaning removes noise\n",
    "#    and irrelevant elements (punctuation, stop words) that don't contribute to the sentiment or overall meaning of the review.\n",
    "# 2. Using the cleaned text for length calculation helps the model focus on the essential words and phrases that carry sentiment.\n",
    "# 3. Since the sentiment analysis and other NLP tasks will be performed on the cleaned text, it makes sense to align the\n",
    "#    review length feature with that same data to maintain consistency."
   ]
  },
  {
   "cell_type": "code",
   "execution_count": 43,
   "metadata": {
    "colab": {
     "base_uri": "https://localhost:8080/",
     "height": 423
    },
    "id": "-9v2E8hp2XP8",
    "outputId": "a431cc95-0221-46d0-d63d-4997792d25fc"
   },
   "outputs": [
    {
     "data": {
      "text/html": [
       "<div>\n",
       "<style scoped>\n",
       "    .dataframe tbody tr th:only-of-type {\n",
       "        vertical-align: middle;\n",
       "    }\n",
       "\n",
       "    .dataframe tbody tr th {\n",
       "        vertical-align: top;\n",
       "    }\n",
       "\n",
       "    .dataframe thead th {\n",
       "        text-align: right;\n",
       "    }\n",
       "</style>\n",
       "<table border=\"1\" class=\"dataframe\">\n",
       "  <thead>\n",
       "    <tr style=\"text-align: right;\">\n",
       "      <th></th>\n",
       "      <th>name</th>\n",
       "      <th>rating</th>\n",
       "      <th>sentiment</th>\n",
       "      <th>cleaned_reviews</th>\n",
       "      <th>review_length</th>\n",
       "    </tr>\n",
       "  </thead>\n",
       "  <tbody>\n",
       "    <tr>\n",
       "      <th>0</th>\n",
       "      <td>Ashwani Jha</td>\n",
       "      <td>5.0</td>\n",
       "      <td>Positive</td>\n",
       "      <td>upgrading iphone absolute breeze apple refined...</td>\n",
       "      <td>61</td>\n",
       "    </tr>\n",
       "    <tr>\n",
       "      <th>1</th>\n",
       "      <td>Alok</td>\n",
       "      <td>5.0</td>\n",
       "      <td>Positive</td>\n",
       "      <td>good phone good price</td>\n",
       "      <td>4</td>\n",
       "    </tr>\n",
       "    <tr>\n",
       "      <th>2</th>\n",
       "      <td>Amazon Customer</td>\n",
       "      <td>5.0</td>\n",
       "      <td>Positive</td>\n",
       "      <td>best product</td>\n",
       "      <td>2</td>\n",
       "    </tr>\n",
       "    <tr>\n",
       "      <th>3</th>\n",
       "      <td>Ali</td>\n",
       "      <td>4.0</td>\n",
       "      <td>Positive</td>\n",
       "      <td>nice product</td>\n",
       "      <td>2</td>\n",
       "    </tr>\n",
       "    <tr>\n",
       "      <th>4</th>\n",
       "      <td>Asif ahmef</td>\n",
       "      <td>5.0</td>\n",
       "      <td>Positive</td>\n",
       "      <td>definately go itthis colour also give amezing ...</td>\n",
       "      <td>25</td>\n",
       "    </tr>\n",
       "    <tr>\n",
       "      <th>...</th>\n",
       "      <td>...</td>\n",
       "      <td>...</td>\n",
       "      <td>...</td>\n",
       "      <td>...</td>\n",
       "      <td>...</td>\n",
       "    </tr>\n",
       "    <tr>\n",
       "      <th>335</th>\n",
       "      <td>Wajid Nazir</td>\n",
       "      <td>5.0</td>\n",
       "      <td>Positive</td>\n",
       "      <td>recently upgraded iphone pro max gb exceeded e...</td>\n",
       "      <td>172</td>\n",
       "    </tr>\n",
       "    <tr>\n",
       "      <th>336</th>\n",
       "      <td>Ayush Gaikwad</td>\n",
       "      <td>5.0</td>\n",
       "      <td>Positive</td>\n",
       "      <td>very good best phone would always consider buy...</td>\n",
       "      <td>14</td>\n",
       "    </tr>\n",
       "    <tr>\n",
       "      <th>337</th>\n",
       "      <td>GANESH KEYAL</td>\n",
       "      <td>1.0</td>\n",
       "      <td>Positive</td>\n",
       "      <td>iphone mental camra iphone world best phone sa...</td>\n",
       "      <td>13</td>\n",
       "    </tr>\n",
       "    <tr>\n",
       "      <th>338</th>\n",
       "      <td>Bikash</td>\n",
       "      <td>5.0</td>\n",
       "      <td>Positive</td>\n",
       "      <td>great product colourdesigncamera wow battery b...</td>\n",
       "      <td>13</td>\n",
       "    </tr>\n",
       "    <tr>\n",
       "      <th>339</th>\n",
       "      <td>MUBEEN</td>\n",
       "      <td>1.0</td>\n",
       "      <td>Positive</td>\n",
       "      <td>phone pro max every thing except video button ...</td>\n",
       "      <td>12</td>\n",
       "    </tr>\n",
       "  </tbody>\n",
       "</table>\n",
       "<p>340 rows × 5 columns</p>\n",
       "</div>"
      ],
      "text/plain": [
       "                name  rating sentiment  \\\n",
       "0        Ashwani Jha     5.0  Positive   \n",
       "1               Alok     5.0  Positive   \n",
       "2    Amazon Customer     5.0  Positive   \n",
       "3                Ali     4.0  Positive   \n",
       "4         Asif ahmef     5.0  Positive   \n",
       "..               ...     ...       ...   \n",
       "335      Wajid Nazir     5.0  Positive   \n",
       "336    Ayush Gaikwad     5.0  Positive   \n",
       "337     GANESH KEYAL     1.0  Positive   \n",
       "338           Bikash     5.0  Positive   \n",
       "339           MUBEEN     1.0  Positive   \n",
       "\n",
       "                                       cleaned_reviews  review_length  \n",
       "0    upgrading iphone absolute breeze apple refined...             61  \n",
       "1                                good phone good price              4  \n",
       "2                                         best product              2  \n",
       "3                                         nice product              2  \n",
       "4    definately go itthis colour also give amezing ...             25  \n",
       "..                                                 ...            ...  \n",
       "335  recently upgraded iphone pro max gb exceeded e...            172  \n",
       "336  very good best phone would always consider buy...             14  \n",
       "337  iphone mental camra iphone world best phone sa...             13  \n",
       "338  great product colourdesigncamera wow battery b...             13  \n",
       "339  phone pro max every thing except video button ...             12  \n",
       "\n",
       "[340 rows x 5 columns]"
      ]
     },
     "execution_count": 43,
     "metadata": {},
     "output_type": "execute_result"
    }
   ],
   "source": [
    "# Create a new feature representing the length of the reviews\n",
    "\n",
    "df['review_length'] = df['cleaned_reviews'].apply(lambda x: len(x.split()))\n",
    "df"
   ]
  },
  {
   "cell_type": "code",
   "execution_count": 44,
   "metadata": {
    "colab": {
     "base_uri": "https://localhost:8080/",
     "height": 472
    },
    "id": "FE-XKqWF2XMn",
    "outputId": "7d088c23-0e17-45c9-ab60-f2c633457c38"
   },
   "outputs": [
    {
     "data": {
      "image/png": "[encoded data removed]",
      "text/plain": [
       "<Figure size 640x480 with 1 Axes>"
      ]
     },
     "metadata": {},
     "output_type": "display_data"
    }
   ],
   "source": [
    "# Visualizing distribution of review lengths\n",
    "\n",
    "sns.histplot(df['review_length'], bins = 20, color='blue')\n",
    "plt.title('Distribution of Review Lengths')\n",
    "plt.xlabel('Review Length')\n",
    "plt.ylabel('Frequency')\n",
    "plt.show()"
   ]
  },
  {
   "cell_type": "code",
   "execution_count": 45,
   "metadata": {
    "id": "vPCTsB7FtUgt"
   },
   "outputs": [],
   "source": [
    "# From above plot it is clear that most of the reviews have very few meaningful words."
   ]
  },
  {
   "cell_type": "markdown",
   "metadata": {
    "id": "VAoX3NkxpU1-"
   },
   "source": [
    "#### 5. WordCloud & N-grams"
   ]
  },
  {
   "cell_type": "code",
   "execution_count": 47,
   "metadata": {
    "id": "8kOHVoZkprTg"
   },
   "outputs": [],
   "source": [
    "# Let's generate Word Cloud to see high frequency words in the Iphone16 reviews"
   ]
  },
  {
   "cell_type": "code",
   "execution_count": 48,
   "metadata": {
    "colab": {
     "base_uri": "https://localhost:8080/",
     "height": 458
    },
    "id": "GCgUzdbZnxmw",
    "outputId": "e124300c-63b3-41f3-809d-64a9e2be4f2a"
   },
   "outputs": [
    {
     "data": {
      "text/plain": [
       "0      upgrading iphone absolute breeze apple refined...\n",
       "1                                  good phone good price\n",
       "2                                           best product\n",
       "3                                           nice product\n",
       "4      definately go itthis colour also give amezing ...\n",
       "                             ...                        \n",
       "335    recently upgraded iphone pro max gb exceeded e...\n",
       "336    very good best phone would always consider buy...\n",
       "337    iphone mental camra iphone world best phone sa...\n",
       "338    great product colourdesigncamera wow battery b...\n",
       "339    phone pro max every thing except video button ...\n",
       "Name: cleaned_reviews, Length: 340, dtype: object"
      ]
     },
     "execution_count": 48,
     "metadata": {},
     "output_type": "execute_result"
    }
   ],
   "source": [
    "df['cleaned_reviews']"
   ]
  },
  {
   "cell_type": "code",
   "execution_count": 49,
   "metadata": {
    "colab": {
     "base_uri": "https://localhost:8080/",
     "height": 123
    },
    "id": "U5PiNH4QppYt",
    "outputId": "461125a5-9ebf-49c1-faf7-d35605769eee"
   },
   "outputs": [
    {
     "data": {
      "text/plain": [
       "'upgrading iphone absolute breeze apple refined transition process making data transfer old iphone effortless few tap everythingfrom apps settingsmoved flawlessly making switch feel seamlessthe performance topnotch unparalleled smoothness navigation app responsiveness multitasking enhanced battery life display quality camera feature make worthy upgrade anyone looking best smartphone experienceif youre considering upgrade iphone wont disappoint apple continues set standard premium smartphones highly recommended good phone good price best product nice product definately go itthis colour also give amezing feelone more thing using iqoo zpro hz display iphone hz surprisingly feel like hz dont worry refresh rate beast device super happy purchase writing formally complain recent purchase iphone online amazoni received item day purchase upon unboxing noticed iphone came mismatched muddled box powered phone stuck hello screen repeatedly displaying hello multiple language completely unresponsivenone button including power volume button functioningafter approximately five hour battery finally drained phone shut however restarting issue persisted device stuck hello screen againi contacted amazon support team advised reach apple support apple support suggested troubleshooting step none resolved issue ultimately advised visit appleauthorized service center software reinstallationon brandnew phonei travel km maple appleauthorized service center reinstalled software process took minute finally making phone functionali extremely disappointed experience purchasing costly device suffered entire day inconvenience due seller inefficiency company negligence quality control unacceptable especially premium productpreviously purchased iphone online without issue time experience frustrating disappointing strongly urge take action seller supplying appears old improperly stored stocki request appropriate compensation inconvenience mental stress caused additionally advise customer cautious purchasing selleri hope amazon take matter seriously ensures incident not happen shifting android io best decision ever hadamazing phone specially teal color look premium good faced battery drain heating related issue product good need improve package safety cardboard cover iphone box also dirty mishandled everything going great issue come camera value moneybattery durability battery quality starafter charging min phone get heat like anythingphone proccessorslow compared android requires patience person like always prefereed high spped processingfor half feature ask siri check applesupportoverall using oneplus good quality one u may find difficult maybe need sometime grt used spped feature batery issue good feature well still exploring very nice phone display excellent classonly con notice not pairing series watch ok ok usual iphone standard network not very good good product one issue noticed hz good mobile handset good lot glitch thereactiondedicated camera button not working properlycamera function also not good take time get stabilitythe network connectivity also glitch sometimegyroscope proximate sensor not working properlythe calling sensor also not working properly due handset get heat sometimecontrast brightness also not working properlyi would request amazon team take review priority plz help customer no comment apple very expensive not worthy money first iphone purchase loving very smooth experience nice phone go  upgrade worth nice category android better phone software issue box flipkart better offer try store offer offer more got another device store worked k cheaper online delivered impeccable condition nicely packediphone really good every respectthe color phone very beautifulthe time taken delivery could better giving star otherwise nothing complaint good product overall though heating very quick post charging think general problem iphone model poor battery mobile good like color nothing much add model working smoothly good qualitynice product status symbol apple im happy purchase got delivered time thank amazon nice product worthy k deal high performancelong lastingbest qualitybest securityjust apple thing better expectedthanks apple amazonseamless experience apple injustice supply bare mobile phone without giveing charger screen protector delivery packaging good promptliked phone very expensive hope worth best feature iphone not hang even many year use one super fast easy use phone amazing although there not much difference iphone felt pretty good using iphone plus quite bigger size regular one small hand hard manage facing issue heating iphone something felt size right hand loving come phon colour bit similar iphone matt glass difference great product phone good no screen guard given moreover no charging adapter facing issue camera not open correctly apps camera issue opening whatsapp gpay get stuck iphone far better drawback hz refresh rate coming old hz refresh rate mobile wont notice difference lack hz major disappointment ignore great product excellent product apple phone good new chipset dont see battery performance meeting expected hype wont even last day normal usage not sure device delivered new iphone wonderful product worth money please provide invoice download no invoice order received really love phone everything awesome cute small lovely mobile equipped latest featuresvalue money good working like colour teal one good colour loved finishing purchased apple gb jan started using jan battery draining even though idle authorized service center also confirmed gave service record letter lot conversation representative hardly agreed upload document really not suitable continue position uploaded report amazon choose replacement amazon say need another letter authorized service center expected apple never gave denied report anyone dont option either replace cancelamazon customer care really not helpful better dont buy product amazon website offer attracted send defective refurbishedreused devicesamazon loss trust belief valued customer paid productmy sincere suggestion want buy apple product better visit store purchase amazing expected colour look better pic reality came sim remover tool charging wire best non pro iphone buy right very responsive fast good colour option best part receiving apple intelligence update along pro model honestly dont think percent population need pro model go want iphone wont disappointed using phone rate phone seems far better phone let see performance long run liked product  awesome lovely liked small size easy carry pents pocketas told used day life strong data security thank good product apple always star premium quality product everyone looking due cheaper value loosing opportunity experience apple ai would not available earlier model speed look handy perfect phone go without second thought want iphone performance worst phone never seen kind phoneeven k smart phone fat batter compare iphonebattery full drain saw video hourscamera worst qualityscreen visual quality not marknot value moneyeven getting add using few apps security apple provided dont understand feature too good nice camera thank q apple would give zero star amazon seller device dead arrivalamazon blaming apple apple blaming amazon amazon shameful say nothing amazon deal apple never gonna buy anything ever amazon amazon washed hand matter apple never disappoints worth money spending amazing phone apple genuine product received love phone fine box incredibly dirty brown year old iphone box look more clean shameful phone hasnt even month box kept condition look year old mera phone din hi kharab ho gya medium could not loaded phone many pro con know aboutpros great camera great performance great inhand feel great haptics great speaker great display except refresh rate great software great color especially nonpro version great battery lifecons hz display camera apple intelligence camera control button medium could not loaded volume button turned faulty soon phone started better compare price apple reseller store like imagine bought iphone gb variant really very low price compared amazon coming phone performance expected usually iphone no lag performance battery could better bad experience battery very worstcant download aap play store phone getting heated often battery drain very faster rate very good product very work efficient battery life quite low usefull hell poor productsame heating problembattery minimum improvement photo library always hang directive phone show lining screen utterly waste phone price not user friendly limited option poor camera quality take lot time charging worst phone ever product multiple scratch seems used packed medium could not loaded color great feel response great too thanks amazon perfect delivery exchange benefit speaker not workingfajr productamazon apple not supporting gave false statement close week happy purchase got good exchange offer old iphone bank offer price came around k gb modelbattery backup very goodlight weight build quality goodcamera good levell payingexcept wide angle camera getting everything iphone offer mobile great very nice phonereliable durable battery draining very fastnot suggested planning buy e perfect size iphone e good one not worth money value money best e best battery backup oled screen huge jump year old phone e very happy special thank amazon delivering day awesome piece work like charm sleek beautiful powerful medium could not loaded received time loved using iphones last year found pretty comfort changing io android rd iphone startong iphone se iphone e felt addicted iphone comfortbought iphone e iphone not found major difference spec little difference battery back speedslightly disappointed slow iq charging not meg safe compatibility really astonishing even spending rupee apple failed give facility apple music player not working properly not able intelligence toh kam hi nhi kar raha hai iphone no change instead buy one plus samsung iphone b good phone bad pricing missing lot feature avoid wait next iphone invest money instead not worth selling price more like downgrade premium price not worth more inr k single camera high price pathetic competitor offering better feature configurationselling scrap leftover brand name laptop instead help work apple making indian foolsi used iphones year right suck innovation no doubt security quality price must worth least waste money apple ko kuch kam karna nahi aata kyu ke paisa tree pa ha kya phone se bariya samsungs ff ya one plus r aa jayega hame pagal samja ha kya would rather buy pricevery much expensive iphone range not worth buying iphone mil jayega jo isse way better hai koi kyu isko kharidega mujhe kuch samajh nhi aata purane phone ko relaunch kyu krte h hardware change karke xr lunch hua h best mobile very costly please general public people imagine please apple mobile slow costly thanks no one gonna buy product r not worth more r apple no one want paisa kam ha nahi la leta koi nahiapple walo kabhi kuch garobi ke lia v bana amazingin compression think too good phone use also built quality wa superb not better iphone pro slim not even weight worth price build quality excellent masterpiece apple better phone experience iphone term processor cameramust buy phone excellent phone value moneyperformance phone performs efficiently task handling apps multitasking easedesign design sleek modern offering premium look feel build quality solidspeed speed impressive particularly launching apps navigating interfacecharging charging speed excellent allowing quick powerups highly convenient busy schedulesbattery battery life reliable last full day moderate heavy use writing review using iphone plus three month first box arrived terrible condition making worried phone inside thankfully phone perfect condition display display very good nice viewing angle dynamic island little distracting watching movie content brightness good bright enough outdoor usedesign design great feel comfortable hand nice curve around edge matte finish back prevents fingerprint also doesnt feel too heavycamera camera good daylight photo sharp natural color zoomed detail arent good phone price range phone retain detail zoomed plus image look blurry however nice feature like photographic style audio mix very useful iphones known video quality plus doesnt disappoint video excellent topnotch quality great detail dynamic range naturallooking color portrait also look very goodbattery battery life fantastic previously used oneplus terrible battery life barely lasting four hour plus huge improvement heavy user im very satisfied moderate use battery last next day heavy use gaming movie youtube need charge night disappointment iphones charging speed feel slow compared android phone fast charging go watt especially playing game demanding task chargingperformance performance topnotch chip very powerful handle heavy task easily experienced no lag frame drop gamingsoftware io very good term customization apple finally added feature available android year like app lock ability hide apps however apple ai feature arent impressive exciting siri integration chatgpt good useful writing tool helpful feel apple introduce more ai feature like samsung more useful excitingoverall feel iphone plus great daily use very good performance great battery life good camera shortcoming lack promotion hz display apple least provided hz phone costing k absence telephoto camera firsttime iphone buyer plus great choice looking upgrade might not worth right purchased phone iphone plus three main reason order importance security neighbour got scammed installed unauthorised app bluedart parcel tracking iphoneios user app wouldnt appstore iphone more secure not totally secure longevity purchased iphone son show no sign degradation ten anything current phone samsung slowly lower battery no bloatware find phone android install want clean robust hardwaresoftwareone reason afford phone also claim gst itc otherwise dont believe iphone high end expensive phone something mid range phone cannot know iphones photo video superior dont use smartphones high end photography advice dont spend much money flaunt recently upgraded iphone plus im absolutely thrilled apple really outdone model bringing several new feature make noticeable difference daily usedesign display design sleek modern edgetoedge display feel immersive new screen technology make everything look vibrant sharp even direct sunlightcamera camera system fantastic improved lowlight performance new image stabilization feature allowed capture stunning professionalquality photosthe highresolution front camera perfect video call selfies apple clearly focused making iphone plus goto device photography enthusiastsbattery life battery life improved significantly easily go full day single charge moderate use fastcharging feature lifesaver im rushperformance powered apple latest chipset iphone plus incredibly fast responsive whether im multitasking apps playing graphicsheavy game never lag new io version run flawlessly offering smooth intuitive user experiencenew feature especially appreciate enhanced face id technology work faster more accurately new ai feature photo app fun addition making easier sort edit imagesoverall iphone plus worth every penny premium device stand performance camera quality battery life youre considering upgrade iphone plus not disappoint nice phone always better android plus come big batt big display hz nice device very powerfull within month visit iplanet twice persistent issue chargingnever expected issue brand like applei used device week service centre took another two week fixing issue still im not sure work nowhorrible experience awesome battery life goodscreen size similar pro maxgood performance also good apple add w charging adaptor along phone sell no comment mobile look very attractive got mobile box damaged good product initially purchasing changed since need camera button battery back more ai need exploreother benefit very very fast open phone via face detection camera one best world especially night shoot moved samsung series iphone processor very fast prefer purchase online instead dubai since expensive product warranty make more confidence got phone replacement second amazon pay cashback k approx battery huge plus would work day easily charging cable fantastic even dont need fast charger going good battery good good worth first touch iphone lifetime experience good best model smart phone normal user like student commonness family person nothing like iphone good model fantastic good phone latest function best iphone r beautiful colour amazing phone great feature good phone awesome no con discovered day usage bad luck never disappoints making purchase no platform amazon flipkart provided discount cc discount dont see magic discount flipkart amazon terrible luck game changer good phone fari chose black one tbh didnt like colour plus model also camera lens position delivered within day excellent device someone trying io st time phot good phone plus ekdum makkhan iphone plus great phone best battery life greatdisplay goodcamera awesomebuild performance greatsound quality betterlittle big one hand well good phone indeed amazon very helpful timely delivery product indeed iphone plus picture quality really good main battery back really awesome good price great experience sp far smooth no lag amazing camera quality great sound using iphone nice bought iphone plus very satisfied camera quality very good battery backup very good overall phone look like good quality budget phonethank amazon good delivery nothing exciting iphone upgrade old model iphone xr equivalent android l l changing android iphone amazing product really dont need introduction maybe no different old predecessor first good phone iphone plus gb blackit excellent phonebattery display design performanceall good calling phone sometimes sound come phone receiver complains voice not heard upgrading iphone se best classnice ui excellent camera bahut acha phone hain bhaiyo perfect mobile everyday use best battery back camera feel like beast good wrost product apple one month use iphone plus not responding completely freezed not access phone no proper response applewestage time money worst service phone not switching amazon not providing supportapple also denied service brought amazon not solved service centre solutionvery bad solution amazon team performance poor expectation not met bought amazon got heating charging using camerawhen trying replacement giving irresponsible solutionsif anyone want buy mobile suggest go near store get atleast supportthis experiencehere writing pain product worthless hang never seen apple device hang plus lag every command seriously want replacement iphone plus one very best iphone ever photo quality best really good performance too iphone plus great product no money perch iphone plus gb sorry not perch iphone plus money problem iphone plus excellent phone especially term performance battery life provides amazing backup im very satisfied downside hz refresh rate overall processor camera quality great definitely recommend buying phone best phone screen still hz buying gaming purpose ultra almost price iphone no change still hz display usb type c major thing upset think iphone fan tooand no ai box people hate review reality iphone nice phone buying ask price phone justify real worthprosonly ai even going arrive march consstill hzno update compare previous phone excluding aiand price worst phone life total waste money dont buy get iphone instead still value money cost more knowing specification im getting iphone photo showed k k one specification gb cost gb cost gb charging gb price wastage money not return got phone bought plus april plus october compare plus better camera le heating issue compared plus white color look excellent phone colour tooo good quality camera starsfabulouslove performance too good no word explain clear photo best smartphone design pretty very very expensive want write review without purchase ok check subject line iphone never released gb version think scam beware title exercise caution buying purchased nd october th october morning found power button stopped working went store bought said submit phone diagnose submitted phone th october still waiting confirmation device asked replace no one responding build quality averagedisplay wialulity okok functionality goood look ar fine value money also not worth gaming capability okokok camera quality badvery dis satisfyingdidnt expect applenot worth moneybattery drained fastnot recommended medium could not loaded spending k something get more refresh rate very disappointed thing delivery person seemed little cranky kinda rude old phone tradein process rest experience otherwise greatthe package arrived good condition skeptical making major purchase amazon phew happened without issuesworth upgrade going iphone older cause there lot change previous slightly older modelsthe battery initially seemed draining pretty fast updated phone latest io somehow battery life got better not sure iphones observation side good upgrade battery life good till evening camera button more useful set zoomingside button silent mode too close volume button sometimes pressed accidentally increasing volume itll take time use ive upgraded iphone iphone pro thoughtscamera rear camera noticeable improvement offering better photo quality enhanced detail however front camera remains iphone battery life no significant change battery performance compared iphone design build new titanium body feel premium sturdy handdisplay screen excellent using case difference display quality iphone pro iphone becomes le discernibleif iphone upgrade may not offer enough justify switch however iphone older iphone pro substantial upgrade worth considering shifted mini proslightly expensive chalta haigreat camera battery performance k phone better very long time take update even very fast internet without update nothing first time apple product didnt find anything special lag much thing others company providing very efficient cost many issuenothing very special charging also slow no fingerprint love product no reasonworth spend nice phone good st iphone switched samsung fe im writing reviewobservations usage monthafter paying lac get palm heater start using camera even short duration get heated significantly something intensive task like insta reel editupload erase object photo used feature phone got crashed rebooted impression okay feel warm purchasing heater felt frame well back genius camera button jisko apni existance kyun hai pata nahi used button need shoot immediately shooting portrait display mode zoom inout accidentally button touch sensitivity result quality photoceramic glass kachchi kali scratch got many scratch month usage not major taking care still got glitch ui okay android company making many product may difficulty maintain bug free ui samsung phone superior ui management placement volume lock button many time taken screenshots operating volume button lock button get pressed holdgenerate pressuremy desire phone great camera system performing well expectation versus reality kahin na kahin maza nahi aaya great awesome battery phone run quickly battery backup le phone no word go time delivery rate small difference nice really like device ui experience smooth always also increased camera quality new pro chip really faster colour size everything new iphone amazing greatas first time apple user gave overwhelming experiencebut delivery men ruin itinspite customer service awesome u spend much new fon must flawless however phone battery not upto mark started using apple product iphone changed year familiarity feature make life easy technically many thing told not sure much improved day day life thoroughly impressed every aspect iphone pro especially upgrading iphone colour good upgrading pro camera top notchbattery backup improvedwaiting ai updateperformance obviously great phone quality upgradedfingerprint reader instead camera button uselessoverall good one really liked pro series yearthere noticeable change last last yr pro seriesif u switching pro series pro suggest not u using pro series totally worth iti liked grip titanium body justoverall loved best camera phone till know best picture quality potrait photo vedio quality mind blowing amezing product best quality thanks amazon upgraded pro pro slightly larger accommodates bigger batteryresulting noticeably improved sot camera control also fantastic making photography even more seamless solid upgrade overall good smooth extremely well engineered camera camera quality sound quality battery not last long run le people say hour phone worth buying another gimmickthe design part come people know new generation phone too expensive itne gaming laptop leleta isliye maine nahi kharida free de rahe ho le lunga still similar iphone except tagline apple intelligence ai install chatgpt app store there no real difference term processing power feature aestheticsi iphone purchased pro yesterday apple thing every year button new chip thats medium could not loaded upon switching phone happening phone not reaponding pathetic amazon delivering faulty product lost performance very poor gift top notch iphone user know pro series work nothing much say colour stand one best got tb ample spaceshutter button really handybest iphone till sep would really look forward getting new oneall iphone user think bling say budget low look phone exactly budget wow amazing productvalue money itne paisa mai gold kharid kr invest kr du mai ya fd mf kr du itna mehanga phone bna kr logo ko iphone race mai daura manufacturer pro chip performance awesome fact run gb sized game like assassin creed rsidant evil etc seamlessly mind blowing upgrade phone want serious power camraif photography cant afford expensive sony camera phone best friend camra not important settle iphone price high low price phone middle class person also purchase design look feature performance excellent battery must say veryvery poor two day usage realise made mistake iphone hated everyone defeated none absolutely beast amazing performance camera battery display sound io feature look gorgeous size fit perfectly battery life decent processor excellent screen o typical applesmooth reliable absolutely love phone slipped hand loud thud sure screen would broken surprisingly wasnt even scratch evident built strong durable suitable upgrade user iphone earlier generation otherwise either base pro model competitive enough medium could not loaded camera quality very outstanding battery life also better not good look similar pro colour accuracy phone desert titanium okayish colour although value money phone bought phone month ago upgraded pro pro purchased black tb variant coming pro feel significant improvement camera department love ai feature more coming soon update overall feel good choice someone upgrading pro dont buy iphone nothing good n k k ki k k ki k k k k k k ki k k k k k k k k kk upgraded phone iphone pro very happy purchase battery life camera good value money functionality feature phone quality size very thing perfect improved o also go wonderful iphone ever must buy suggest model pro seriescamera control excellent feature hit month waste money useless phone android best o v apple act per phone android work according u like photo quality video quality better every one say capture button no use iphone not pro pro max cheaper iphone pro max iphone pro garnered significant attention blend innovative feature refined design here overview key aspectsdesign displaythe iphone pro feature inch super retina oled display slimmer bezel enhancing viewing experience reduced bezel size provides more screen real estate making content consumption more immersive performancepowered pro chipset iphone pro delivers exceptional performance device handle multitasking ease improved thermal system ensures efficient heat management intensive task camera systema notable enhancement inclusion x optical zoom telephoto lens previously exclusive larger model addition offer user greater versatility photography detailed closeup expansive landscape battery lifethe iphone pro battery performance commendable matching previous pro max model user expect hour usage ensuring reliability throughout day software featuresrunning io device introduces apple intelligence enhancing user experience smart reply advanced siri capability realtime transcription feature streamline daily task making interaction more intuitive conclusionthe iphone pro stand superior performance advanced camera system userfriendly feature caters existing iphone user seeking upgrade newcomer desiring premium smartphone experiencefor more indepth analysis might find following video review helpful not much upgrade compared last onebattery life also worse waste money side button literally no use manufacturing india not help decrease price not recommended buy too costly dont put hardcore money bank account diedseeing value latest iphone probad quality camera suck sony xperia better never buy iphone since pro launch every year simply copied every time claim few percentage faster previousjust fool every time not buy very expensive no kidney bad no liver half also more word required more more word required love colour one hand use compact size nd iphone life wow thanks amazon never buy iphone since pro launch every year simply copied every time claim few percentage faster previousjust fool every time battery health really bad not worth money very much disappointedcamera good no much use side button phone very good percent worth iphone older processor very fast run aaa game very well fantastic happy buy battery health decent camera quality bestand control also good dont understand iphone pro max often going stock whyyyyy think iphone pro max best mobile ever ive using iphone pro max month im blown away sheer performance stunning display revolutionary camera capability apple truly outdone flagship devicepros breathtaking display inch super retina xdr display mesmerizing vibrant color immersive viewing experience camera revolution mp pro camera system incredible capturing lifelike image ease night mode portrait advanced feature take mobile photography new height lightningfast performance pro chip delivers seamless multitasking graphicsintensive gaming effortless navigation allday battery life hour video playback no longer worry running juice sleek design titanium build textured matte glass back exude premium quality durabilityadditional highlight dynamic island alwayson display provide intuitive experience promotion technology adaptive refresh rate hz ensures silkysmooth visuals fast charging wireless charging magsafe qi make powering convenient ip rating ensures peace mind accidental water exposureverdictthe iphone pro max exceptional device justifies premium price youre seeking best iphone experience look no apple attention detail innovative feature commitment quality make device gamechangerrating breakdown display camera performance battery life design value recommendationif youre due upgrade seeking ultimate smartphone experience iphone pro max perfect choice medium could not loaded love iphone pro max big powerful anything yes play consolelevel game without issue take lovely photo even choose not try new style undertone clear coloraccuratekey specsapple iphone pro maxram gbprocessor apple prorear camera mp mp mpfront camera mpbattery mahdisplay inch cmproslarger screensthinner bezelsk slomo omgpowerful processorcamera control instant camera accessgood performance battery lifeexcellent camera useful photo stylesvideo capability audio mixapple intelligenceconsno k video recordingslow chargingpricey got pro max delivered nicely delivery time could shorter alright phone recevied today evening tiny problm display excellent phone apple intelligence amazing battery life mind blowing come best camera pro max older go pro max difference going see apple intelligence better battery life slightly better camera otherwise going feel like exact phone use without case rounded eges pro max better use without case skip save money pro max difference negligible black titanium color look gorgeous good color current series shame removed blue titanium color also cost k le launch price pro max huge plus beautiful not like first first iphone used samsung oneplus xiaomi phone pro max many flaw android much better io very smooththings liked speaker amazing battery life good overall smoothness camera greatthings not like web browser safari others limited hz no option menu bar navigation android gesture bar display screen color fixed natural tone no option vivid etc restricted filesfolder access many ui limitation managing whatsapp medium mess much simpler android telephoto x image too soft no separate camera folder photo app photo take phone goodunbeatable video audio recording featuresperformance level youll never max outapples best display yetthe not goodapple intelligence subparnot much difference iphone pro maxa bit too expensive superb experience totally worth itno word sayit soo powerful weak network reception compared phone built quality rock solid could perfect network problem solved hope apple people lend ear comment try rectify inbuilt problem heard removed hardware model genuine product beast not bad look great very expensive better ur upgrading couple year best video camera smartphone bt apple come something innovative change design look very similiar previous product great camera top notch every department bought long reviewing buy not not much difference pro max screen size minute bigger one lighter pro max camera difference not verified not pro photography few apps crashed initially day let see mobile good little bulkey pro variant better people migrated iphone plus thought big leap apart dynamic island face id dont think big change camera very confusing complicated photo plus too easy good too one month change review due poor camera phone worth lac emi very averagebattery life good reviewed phone six month old go better android much lesser cost next phone probably not apple upgrading iphone pro max gamechanger enhanced apple intelligence take daily task whole new levelfaster smarter more intuitive camera quality stunning capturing every detail effortlessly display feel like visual treat vibrant color battery life comfortably last day even heavy use sleek design cherry top youre already iphone user musthave upgrade looking stay forefront tech nice mind blowing phone really very good phone very good camera quality software performance build quality display superb battery life best iphones ever used coz no heating issue like pro max wonderful product every feature totally perfect loved desert colour go silky smooth feel class elegancethe best iphone till dateblazing fast smooth touch dessert titanium colour very elegantbattery last full day high call texting usagepre booked launch day got delivered timely launch day checked emei serial no delivery genuine product phone great product amazing pink line visible day due software update nice beautiful update received very exciting nice product upgrade promax pro maxdelivered time expected genuine product thanks amazon worth buying great phonemainlyno overheating issuesno green white blue straight line using reboot medium could not loaded first apple product life iphone pro max say one word perfect smartphone battery enough daily usage display camera superb overall little thing like noticeable haptic feedback volume superb bought latest expansive product apple happy achaa mobile hai camera use krte nhi bann rahe hai iphone se jada achi pic aati thi assa lag rahe mobile good wide angle camera not expected requires more light indore low light condition good day lightalso camera button not handy cant use regularly lot bug software performance also good camera battery backup like colour battery display camera iphone logo not visible little disappointed nice phone camera mindblowing using iphones last few year not worthy spend much amoutwher get better feature brand lower costworst dont buy lakbetter go ultramy future mobile non iphone go brandsamazon cash back also not recvd still very poor amazon serviceafter month usage camera stopped working refused replace soi sincerely suggesting not buy apple product getting hot chraging dont buy amazon give defective phone return policy also fake dont let return replace producteven given time period lag lot received fake iphone fake ui medium could not loaded battery life very bad expected buy very cheap affordable price repetitive design no extra pro feature selling button nowadays not better series dont buy like phone battery very good iphone favourite devicephotography very smooth display issue p beast phone packed performance play bgmi phone fps phone really asset keep great screen great clarity camera too good voice bought black unicorn good le best phone best phone timethe camera better samsung phonevale money phoneyou try very good phone better android samsung good camera sound good screen smooth good phone like product very much though havent purchased yet still love apple love screen quality excellent phone very good battery backup display excellent high refresh rate hdr support ai feature still limited sure fully available great better invest amount buying gold mf fd really very huge amount even think loan buy suggest invest big amount accha hai cmra smjh nhi aarha think mere se pic jyada acche aate kya hi bolu go great switching ultra drawback covered ai tool thatd roll id happy unbeatable bought white titanium look clean best phone powerful stable pro chip also bigger display feel perfect worth iphone pro max world bad phone worlduska baap samsung galaxy ultraiphone camera quality badsamsung galaxy ultra camera quality great x zoom mobile amazing really good quality product purchase product fell gorgeous nice product send five star rate amazing offer unique product ordered friend sleek unique product very good performance lag camera button day iphone compromising quality not happy brand phone offering much better feature quality day not problem product cancelled due long delivery time not even giving refund back order pre paid not even giving refund back totally wastage money no need purchase expensive mobile nothing new series overall not value money kya hi bolu maine kharida v nahi aur mujhe kuchh khaas nahi lag raha ye phone samsung lelo i se thik dislike phone take kidney form dont buy android phone better very expensive get much better phone something much cheaper know buy okay ki phone doesnt keypad screennot able call friend samlalnot recommended buy product best universe buy make feel like limited edition apple iphone namaste very nice phone evryone buy price not high compare iphone let buy master phone good good camera performance charging also good value money purpose nice nice phone nice nice storage nice nice camera nice nice system everything nice nice iphone nice nice recently upgraded iphone pro max gb exceeded expectation here phone absolute gamechanger stunning k camera dolby visionthe camera quality unparalleled ability shoot k fps dolby vision take photo video whole new level whether lowlight shot fastmotion video result crystal clear professionally stunning camera control feature let customize shot perfect picture every time unbelievable performance g speedthe performance lightningfast g connectivity ensures im always connected highest speed streaming browsing gaming never smoother download large file second experience lagfree gaming immersive battery lifethe battery life drastically improved go entire day without worry charging even heavy usage huge leap previous model make phone perfect always go sleek design black titaniumthe black titanium finish sleek elegant feel premium hand not durable also fingerprintresistant keeping phone looking brand new time work seamlessly airpodsthe integration airpods flawless allowing smooth seamless experience listening music taking call enjoying movie final verdictif youre looking phone offer superior performance incredible camera capability longlasting battery life iphone pro max gb ultimate choice everything need smartphone sleek design thats sure turn head highly recommended very good best phone would always consider buying iphone samsung thing not happy ai iphone mental camra iphone world best phone samsung galaxy ultra g ai smartphone great product colourdesigncamera wow battery backup great sound quality amazing full feature go phone pro max every thing except video button very baddont waste money'"
      ]
     },
     "execution_count": 49,
     "metadata": {},
     "output_type": "execute_result"
    }
   ],
   "source": [
    "# Let's prepare the customer review data for generating WordCloud by combining all reviews into a single,\n",
    "# and space-separated string\n",
    "txt = ' '.join(df['cleaned_reviews'])\n",
    "txt"
   ]
  },
  {
   "cell_type": "code",
   "execution_count": 50,
   "metadata": {
    "colab": {
     "base_uri": "https://localhost:8080/",
     "height": 312
    },
    "id": "7-Q_al8fqDEf",
    "outputId": "0f64655c-a46b-4c82-a501-7b303ffa2f88"
   },
   "outputs": [
    {
     "data": {
      "image/png": "[encoded data removed]",
      "text/plain": [
       "<Figure size 640x480 with 1 Axes>"
      ]
     },
     "metadata": {},
     "output_type": "display_data"
    }
   ],
   "source": [
    "wc = WordCloud(background_color='white', height=1000, width=2000).generate(txt)\n",
    "\n",
    "plt.title('WordCloud for Iphone16 reviews', size=18)\n",
    "plt.imshow(wc)\n",
    "plt.axis('off')\n",
    "plt.show()"
   ]
  },
  {
   "cell_type": "code",
   "execution_count": 51,
   "metadata": {
    "id": "iLqfG8f5oPSV"
   },
   "outputs": [],
   "source": [
    "# Applying N-grams technique to get frequency of most occuring words and word associations\n",
    "\n",
    "def plot_ngrams(df, n=1):\n",
    "  vectorizer = CountVectorizer(ngram_range=(n, n))\n",
    "  ngrams = vectorizer.fit_transform(df['cleaned_reviews'])\n",
    "  ngrams_freq = ngrams.sum(axis=0).A1 # .A1 attribute converts the matrix obtained in the previous step into a 1-dimensional NumPy array. This makes it easier to work with the frequency data.\n",
    "  ngrams_df = pd.DataFrame(ngrams_freq, index=vectorizer.get_feature_names_out(), columns=['Frequency'])\n",
    "  ngrams_df = ngrams_df.sort_values(by='Frequency', ascending=False)\n",
    "  ngrams_df = ngrams_df.head(20)\n",
    "\n",
    "\n",
    "  plt.figure(figsize=(15,10))\n",
    "  sns.barplot(x='Frequency', y=ngrams_df.index, data=ngrams_df, palette='viridis')\n",
    "  plt.title(f'Top 20 {n}-grams')\n",
    "  plt.show()"
   ]
  },
  {
   "cell_type": "code",
   "execution_count": 52,
   "metadata": {
    "colab": {
     "base_uri": "https://localhost:8080/",
     "height": 872
    },
    "id": "g93nuIocomQK",
    "outputId": "fb7eb1bd-c8ae-4da6-b28c-d31dd8228a81"
   },
   "outputs": [
    {
     "data": {
      "image/png": "[encoded data removed]",
      "text/plain": [
       "<Figure size 1500x1000 with 1 Axes>"
      ]
     },
     "metadata": {},
     "output_type": "display_data"
    }
   ],
   "source": [
    "# Unigrams\n",
    "plot_ngrams(df, n=1)"
   ]
  },
  {
   "cell_type": "code",
   "execution_count": 53,
   "metadata": {
    "id": "97fKxNxgrV7i"
   },
   "outputs": [],
   "source": [
    "# Conclusion from WordCloud and Unigram bar plot: -\n",
    "\n",
    "# 1. Prominent words: The words that appear larger in the word cloud, such as 'phone', 'good' and 'iphone'\n",
    "#    indicate that these are the most frequently mentioned words in the customer reviews.\n",
    "\n",
    "# 2. Overall sentiment: The prominent presence of positive words like 'good', 'great', 'best' and 'nice' suggests a generally positive sentiment\n",
    "#    towards the iPhone 16 among customers.\n",
    "\n",
    "# 3. Key themes: The prominent words related to features like 'camera', 'battery' and 'display' highlight the key aspects\n",
    "#    that customers focus on when reviewing the iPhone 16."
   ]
  },
  {
   "cell_type": "code",
   "execution_count": 54,
   "metadata": {
    "colab": {
     "base_uri": "https://localhost:8080/",
     "height": 872
    },
    "id": "nJs8gWddpwej",
    "outputId": "b66cabb0-95e3-431d-c67c-0cb7e1743437"
   },
   "outputs": [
    {
     "data": {
      "image/png": "[encoded data removed]",
      "text/plain": [
       "<Figure size 1500x1000 with 1 Axes>"
      ]
     },
     "metadata": {},
     "output_type": "display_data"
    }
   ],
   "source": [
    "# Let's find out most frequent word associations in the reviews (Bi-grams)\n",
    "\n",
    "plot_ngrams(df, n=2)"
   ]
  },
  {
   "cell_type": "code",
   "execution_count": 55,
   "metadata": {
    "id": "zu-WEQKQqKxw"
   },
   "outputs": [],
   "source": [
    "# Most frequently occuring Bi-grams include 'battery life', 'pro max', 'iphone pro', 'iphone plus', 'very good', 'camera quality'\n",
    "# and 'good phone'. This data suggests that there is a general positive sentiment in the reviews as in unigrams and bigrams data\n",
    "# most frequently occuring words/phrases express a positive sentiment.\n",
    "\n",
    "# This inference need to be further validated using Sentiment Distribution Analysis."
   ]
  },
  {
   "cell_type": "markdown",
   "metadata": {
    "id": "Tm5-rFSD7qAA"
   },
   "source": [
    "#### 6. Sentiment Distribution Analysis"
   ]
  },
  {
   "cell_type": "code",
   "execution_count": 57,
   "metadata": {
    "colab": {
     "base_uri": "https://localhost:8080/",
     "height": 647
    },
    "id": "AjDNGsUb9jLj",
    "outputId": "5c9e7d05-9850-4d78-8526-5c8911dd2a88"
   },
   "outputs": [
    {
     "data": {
      "image/png": "[encoded data removed]",
      "text/plain": [
       "<Figure size 640x480 with 1 Axes>"
      ]
     },
     "metadata": {},
     "output_type": "display_data"
    },
    {
     "data": {
      "text/plain": [
       "sentiment\n",
       "Positive    225\n",
       "Negative    115\n",
       "Name: count, dtype: int64"
      ]
     },
     "execution_count": 57,
     "metadata": {},
     "output_type": "execute_result"
    }
   ],
   "source": [
    "# Get the distribution of sentiments\n",
    "\n",
    "sns.countplot(x='sentiment', data=df, palette='Set2')\n",
    "plt.title('Distribution of Sentiments', size=20)\n",
    "plt.xlabel('Sentiments', size=15)\n",
    "plt.ylabel('Count', size=15)\n",
    "plt.show()\n",
    "\n",
    "df['sentiment'].value_counts()"
   ]
  },
  {
   "cell_type": "code",
   "execution_count": 58,
   "metadata": {
    "colab": {
     "base_uri": "https://localhost:8080/",
     "height": 523
    },
    "id": "srjpTV_D-Em9",
    "outputId": "0e690672-c6b9-4b91-bc42-3f765d5b3cdc"
   },
   "outputs": [
    {
     "data": {
      "image/png": "[encoded data removed]",
      "text/plain": [
       "<Figure size 600x600 with 1 Axes>"
      ]
     },
     "metadata": {},
     "output_type": "display_data"
    }
   ],
   "source": [
    "# Visualizing sentiment distribution using pie chart\n",
    "\n",
    "df['sentiment'].value_counts().plot.pie(autopct='%1.1f%%', figsize=(6,6), colors=['lightgreen', 'orange', 'lightblue'])\n",
    "plt.title('Distribution of Sentiments', size=15)\n",
    "plt.ylabel('')\n",
    "plt.show()"
   ]
  },
  {
   "cell_type": "code",
   "execution_count": 59,
   "metadata": {
    "id": "sld6cCH5Abhc"
   },
   "outputs": [],
   "source": [
    "# Conclusion and inferences from Sentiment Distribution Analysis of Iphone16 reviews: -\n",
    "\n",
    "# 1. Positive: 66.2% of the reviews expressed a positive sentiment towards the iPhone 16.\n",
    "# 2. Negative: 33.8% of the reviews expressed a negative sentiment towards the iPhone 16."
   ]
  },
  {
   "cell_type": "markdown",
   "metadata": {
    "id": "RWkboR4GtFLi"
   },
   "source": [
    "### Inference from Sentiment Distribution Analysis:\n",
    "\n",
    "##### Overall, the sentiment analysis suggests that customer sentiment towards the iPhone 16 is predominantly positive.This indicates a generally favorable reception of the product by the majority of users. However, it is important to acknowledge the presence of negative sentiments as well and it is advisable to continuously monitor the customer feedback and conduct regular sentiment analysis to track the evolving perceptions of the iPhone 16 in the market."
   ]
  },
  {
   "cell_type": "markdown",
   "metadata": {
    "id": "sQxuehEEiFPU"
   },
   "source": [
    "## Model Building"
   ]
  },
  {
   "cell_type": "markdown",
   "metadata": {
    "id": "w2sjB--0qAlN"
   },
   "source": [
    "#### 1. TF-IDF"
   ]
  },
  {
   "cell_type": "code",
   "execution_count": 63,
   "metadata": {
    "id": "h82h955ViGii"
   },
   "outputs": [],
   "source": [
    "# Import necessary libraries\n",
    "\n",
    "from sklearn.feature_extraction.text import TfidfVectorizer"
   ]
  },
  {
   "cell_type": "code",
   "execution_count": 64,
   "metadata": {
    "id": "KqEO9TvgiP2v"
   },
   "outputs": [],
   "source": [
    "vectorizer = TfidfVectorizer()\n",
    "X_tfidf = vectorizer.fit_transform(df['cleaned_reviews'])"
   ]
  },
  {
   "cell_type": "code",
   "execution_count": 65,
   "metadata": {
    "id": "XwWI8oKF1G37"
   },
   "outputs": [],
   "source": [
    "y = df['sentiment']"
   ]
  },
  {
   "cell_type": "code",
   "execution_count": 66,
   "metadata": {
    "id": "AAfcL4y2jMJa"
   },
   "outputs": [],
   "source": [
    "X_train_tfidf, X_test_tfidf, y_train, y_test = train_test_split(X_tfidf, y, test_size=0.2, shuffle=True)"
   ]
  },
  {
   "cell_type": "code",
   "execution_count": 67,
   "metadata": {
    "id": "qA8ryoJpniP3"
   },
   "outputs": [],
   "source": [
    "# Now, let's train a sentiment classifier."
   ]
  },
  {
   "cell_type": "markdown",
   "metadata": {
    "id": "MXYMHlfRqGUX"
   },
   "source": [
    "#### 2. Selecting the best sentiment classifier model"
   ]
  },
  {
   "cell_type": "code",
   "execution_count": 69,
   "metadata": {
    "id": "Qs7s9EKuqliP"
   },
   "outputs": [],
   "source": [
    "# Importing necessary libraries\n",
    "\n",
    "from sklearn.model_selection import train_test_split, GridSearchCV\n",
    "from sklearn.linear_model import LogisticRegression\n",
    "from sklearn.svm import SVC\n",
    "from sklearn.naive_bayes import MultinomialNB\n",
    "from sklearn.ensemble import RandomForestClassifier\n",
    "from sklearn.metrics import accuracy_score, classification_report"
   ]
  },
  {
   "cell_type": "code",
   "execution_count": 70,
   "metadata": {
    "id": "kDFtkZP8xal9"
   },
   "outputs": [],
   "source": [
    "# Define models and hyperparameters\n",
    "\n",
    "models = {\n",
    "    'Logistic Regression' : {\n",
    "    'model' : LogisticRegression(), 'params' : {'C' : [0.1, 1, 10, 100], 'penalty': ['l1', 'l2'], 'solver': ['liblinear', 'saga'] }\n",
    "    },\n",
    "\n",
    "    'SVM' : {\n",
    "    'model' : SVC(), 'params' : {'C' : [0.1, 1, 10, 100], 'kernel' : ['linear', 'rbf', 'poly']}\n",
    "    },\n",
    "\n",
    "    'Naive_Bayes' : {\n",
    "    'model' : MultinomialNB(), 'params' : {}\n",
    "    },\n",
    "\n",
    "    'Random Forest' : {\n",
    "    'model' : RandomForestClassifier(), 'params' : {'n_estimators' : [50, 100, 200], 'max_depth' : [5, 6, 7]}\n",
    "    }\n",
    "}"
   ]
  },
  {
   "cell_type": "code",
   "execution_count": 71,
   "metadata": {
    "colab": {
     "base_uri": "https://localhost:8080/"
    },
    "id": "5xUXSdXkz9wW",
    "outputId": "f1bd59be-7ac8-41f8-ecae-bd994908ff3e"
   },
   "outputs": [
    {
     "name": "stdout",
     "output_type": "stream",
     "text": [
      "Logistic Regression: \n",
      "Best Parameters: {'C': 10, 'penalty': 'l1', 'solver': 'liblinear'}\n",
      "Accuracy: 0.7647058823529411\n",
      "              precision    recall  f1-score   support\n",
      "\n",
      "    Negative       0.70      0.58      0.64        24\n",
      "    Positive       0.79      0.86      0.83        44\n",
      "\n",
      "    accuracy                           0.76        68\n",
      "   macro avg       0.75      0.72      0.73        68\n",
      "weighted avg       0.76      0.76      0.76        68\n",
      "\n",
      "SVM: \n",
      "Best Parameters: {'C': 10, 'kernel': 'linear'}\n",
      "Accuracy: 0.8235294117647058\n",
      "              precision    recall  f1-score   support\n",
      "\n",
      "    Negative       0.77      0.71      0.74        24\n",
      "    Positive       0.85      0.89      0.87        44\n",
      "\n",
      "    accuracy                           0.82        68\n",
      "   macro avg       0.81      0.80      0.80        68\n",
      "weighted avg       0.82      0.82      0.82        68\n",
      "\n",
      "Naive_Bayes: \n",
      "Best Parameters: {}\n",
      "Accuracy: 0.6470588235294118\n",
      "              precision    recall  f1-score   support\n",
      "\n",
      "    Negative       0.50      0.04      0.08        24\n",
      "    Positive       0.65      0.98      0.78        44\n",
      "\n",
      "    accuracy                           0.65        68\n",
      "   macro avg       0.58      0.51      0.43        68\n",
      "weighted avg       0.60      0.65      0.53        68\n",
      "\n",
      "Random Forest: \n",
      "Best Parameters: {'max_depth': 6, 'n_estimators': 100}\n",
      "Accuracy: 0.6470588235294118\n",
      "              precision    recall  f1-score   support\n",
      "\n",
      "    Negative       0.00      0.00      0.00        24\n",
      "    Positive       0.65      1.00      0.79        44\n",
      "\n",
      "    accuracy                           0.65        68\n",
      "   macro avg       0.32      0.50      0.39        68\n",
      "weighted avg       0.42      0.65      0.51        68\n",
      "\n",
      "\n",
      " Best Model: SVM\n",
      "Best Accuracy: 0.8235294117647058\n",
      "Best Parameters: {'C': 10, 'kernel': 'linear'}\n"
     ]
    }
   ],
   "source": [
    "# Train and evaluate models\n",
    "\n",
    "best_model = None\n",
    "best_accuracy = 0\n",
    "best_params = {}\n",
    "\n",
    "for model_name, model_data in models.items():\n",
    "  grid_search = GridSearchCV(model_data['model'], model_data['params'], cv=5, scoring = 'accuracy')\n",
    "  grid_search.fit(X_train_tfidf, y_train)\n",
    "\n",
    "  y_pred = grid_search.predict(X_test_tfidf)\n",
    "  accuracy = accuracy_score(y_test, y_pred)\n",
    "\n",
    "  print(f\"{model_name}: \")\n",
    "  print(f\"Best Parameters: {grid_search.best_params_}\")\n",
    "  print(f\"Accuracy: {accuracy}\")\n",
    "  print(classification_report(y_test, y_pred))\n",
    "\n",
    "  if accuracy > best_accuracy:\n",
    "    best_accuracy = accuracy\n",
    "    best_model = model_name\n",
    "    best_params = grid_search.best_params_\n",
    "\n",
    "print(f\"\\n Best Model: {best_model}\")\n",
    "print(f\"Best Accuracy: {best_accuracy}\")\n",
    "print(f\"Best Parameters: {best_params}\")"
   ]
  },
  {
   "cell_type": "code",
   "execution_count": 72,
   "metadata": {
    "id": "4cIDelz55ej_"
   },
   "outputs": [],
   "source": [
    "# Looking at the overall picture of all models, SVM provides a better model with\n",
    "# high accuracy and high f1-score for positive and negative sentiments."
   ]
  },
  {
   "cell_type": "code",
   "execution_count": 73,
   "metadata": {
    "id": "CHNva7DocQj1"
   },
   "outputs": [],
   "source": [
    "# Therefore, initiating SVM model based on the best parameters achieved to apply for\n",
    "# model deployment."
   ]
  },
  {
   "cell_type": "code",
   "execution_count": 74,
   "metadata": {
    "colab": {
     "base_uri": "https://localhost:8080/",
     "height": 80
    },
    "id": "x3K601XacJ6k",
    "outputId": "ca3c06e9-bcdc-48d4-9aa3-b541e5b2f235"
   },
   "outputs": [
    {
     "data": {
      "text/html": [
       "<style>#sk-container-id-1 {\n",
       "  /* Definition of color scheme common for light and dark mode */\n",
       "  --sklearn-color-text: black;\n",
       "  --sklearn-color-line: gray;\n",
       "  /* Definition of color scheme for unfitted estimators */\n",
       "  --sklearn-color-unfitted-level-0: #fff5e6;\n",
       "  --sklearn-color-unfitted-level-1: #f6e4d2;\n",
       "  --sklearn-color-unfitted-level-2: #ffe0b3;\n",
       "  --sklearn-color-unfitted-level-3: chocolate;\n",
       "  /* Definition of color scheme for fitted estimators */\n",
       "  --sklearn-color-fitted-level-0: #f0f8ff;\n",
       "  --sklearn-color-fitted-level-1: #d4ebff;\n",
       "  --sklearn-color-fitted-level-2: #b3dbfd;\n",
       "  --sklearn-color-fitted-level-3: cornflowerblue;\n",
       "\n",
       "  /* Specific color for light theme */\n",
       "  --sklearn-color-text-on-default-background: var(--sg-text-color, var(--theme-code-foreground, var(--jp-content-font-color1, black)));\n",
       "  --sklearn-color-background: var(--sg-background-color, var(--theme-background, var(--jp-layout-color0, white)));\n",
       "  --sklearn-color-border-box: var(--sg-text-color, var(--theme-code-foreground, var(--jp-content-font-color1, black)));\n",
       "  --sklearn-color-icon: #696969;\n",
       "\n",
       "  @media (prefers-color-scheme: dark) {\n",
       "    /* Redefinition of color scheme for dark theme */\n",
       "    --sklearn-color-text-on-default-background: var(--sg-text-color, var(--theme-code-foreground, var(--jp-content-font-color1, white)));\n",
       "    --sklearn-color-background: var(--sg-background-color, var(--theme-background, var(--jp-layout-color0, #111)));\n",
       "    --sklearn-color-border-box: var(--sg-text-color, var(--theme-code-foreground, var(--jp-content-font-color1, white)));\n",
       "    --sklearn-color-icon: #878787;\n",
       "  }\n",
       "}\n",
       "\n",
       "#sk-container-id-1 {\n",
       "  color: var(--sklearn-color-text);\n",
       "}\n",
       "\n",
       "#sk-container-id-1 pre {\n",
       "  padding: 0;\n",
       "}\n",
       "\n",
       "#sk-container-id-1 input.sk-hidden--visually {\n",
       "  border: 0;\n",
       "  clip: rect(1px 1px 1px 1px);\n",
       "  clip: rect(1px, 1px, 1px, 1px);\n",
       "  height: 1px;\n",
       "  margin: -1px;\n",
       "  overflow: hidden;\n",
       "  padding: 0;\n",
       "  position: absolute;\n",
       "  width: 1px;\n",
       "}\n",
       "\n",
       "#sk-container-id-1 div.sk-dashed-wrapped {\n",
       "  border: 1px dashed var(--sklearn-color-line);\n",
       "  margin: 0 0.4em 0.5em 0.4em;\n",
       "  box-sizing: border-box;\n",
       "  padding-bottom: 0.4em;\n",
       "  background-color: var(--sklearn-color-background);\n",
       "}\n",
       "\n",
       "#sk-container-id-1 div.sk-container {\n",
       "  /* jupyter's `normalize.less` sets `[hidden] { display: none; }`\n",
       "     but bootstrap.min.css set `[hidden] { display: none !important; }`\n",
       "     so we also need the `!important` here to be able to override the\n",
       "     default hidden behavior on the sphinx rendered scikit-learn.org.\n",
       "     See: https://github.com/scikit-learn/scikit-learn/issues/21755 */\n",
       "  display: inline-block !important;\n",
       "  position: relative;\n",
       "}\n",
       "\n",
       "#sk-container-id-1 div.sk-text-repr-fallback {\n",
       "  display: none;\n",
       "}\n",
       "\n",
       "div.sk-parallel-item,\n",
       "div.sk-serial,\n",
       "div.sk-item {\n",
       "  /* draw centered vertical line to link estimators */\n",
       "  background-image: linear-gradient(var(--sklearn-color-text-on-default-background), var(--sklearn-color-text-on-default-background));\n",
       "  background-size: 2px 100%;\n",
       "  background-repeat: no-repeat;\n",
       "  background-position: center center;\n",
       "}\n",
       "\n",
       "/* Parallel-specific style estimator block */\n",
       "\n",
       "#sk-container-id-1 div.sk-parallel-item::after {\n",
       "  content: \"\";\n",
       "  width: 100%;\n",
       "  border-bottom: 2px solid var(--sklearn-color-text-on-default-background);\n",
       "  flex-grow: 1;\n",
       "}\n",
       "\n",
       "#sk-container-id-1 div.sk-parallel {\n",
       "  display: flex;\n",
       "  align-items: stretch;\n",
       "  justify-content: center;\n",
       "  background-color: var(--sklearn-color-background);\n",
       "  position: relative;\n",
       "}\n",
       "\n",
       "#sk-container-id-1 div.sk-parallel-item {\n",
       "  display: flex;\n",
       "  flex-direction: column;\n",
       "}\n",
       "\n",
       "#sk-container-id-1 div.sk-parallel-item:first-child::after {\n",
       "  align-self: flex-end;\n",
       "  width: 50%;\n",
       "}\n",
       "\n",
       "#sk-container-id-1 div.sk-parallel-item:last-child::after {\n",
       "  align-self: flex-start;\n",
       "  width: 50%;\n",
       "}\n",
       "\n",
       "#sk-container-id-1 div.sk-parallel-item:only-child::after {\n",
       "  width: 0;\n",
       "}\n",
       "\n",
       "/* Serial-specific style estimator block */\n",
       "\n",
       "#sk-container-id-1 div.sk-serial {\n",
       "  display: flex;\n",
       "  flex-direction: column;\n",
       "  align-items: center;\n",
       "  background-color: var(--sklearn-color-background);\n",
       "  padding-right: 1em;\n",
       "  padding-left: 1em;\n",
       "}\n",
       "\n",
       "\n",
       "/* Toggleable style: style used for estimator/Pipeline/ColumnTransformer box that is\n",
       "clickable and can be expanded/collapsed.\n",
       "- Pipeline and ColumnTransformer use this feature and define the default style\n",
       "- Estimators will overwrite some part of the style using the `sk-estimator` class\n",
       "*/\n",
       "\n",
       "/* Pipeline and ColumnTransformer style (default) */\n",
       "\n",
       "#sk-container-id-1 div.sk-toggleable {\n",
       "  /* Default theme specific background. It is overwritten whether we have a\n",
       "  specific estimator or a Pipeline/ColumnTransformer */\n",
       "  background-color: var(--sklearn-color-background);\n",
       "}\n",
       "\n",
       "/* Toggleable label */\n",
       "#sk-container-id-1 label.sk-toggleable__label {\n",
       "  cursor: pointer;\n",
       "  display: block;\n",
       "  width: 100%;\n",
       "  margin-bottom: 0;\n",
       "  padding: 0.5em;\n",
       "  box-sizing: border-box;\n",
       "  text-align: center;\n",
       "}\n",
       "\n",
       "#sk-container-id-1 label.sk-toggleable__label-arrow:before {\n",
       "  /* Arrow on the left of the label */\n",
       "  content: \"▸\";\n",
       "  float: left;\n",
       "  margin-right: 0.25em;\n",
       "  color: var(--sklearn-color-icon);\n",
       "}\n",
       "\n",
       "#sk-container-id-1 label.sk-toggleable__label-arrow:hover:before {\n",
       "  color: var(--sklearn-color-text);\n",
       "}\n",
       "\n",
       "/* Toggleable content - dropdown */\n",
       "\n",
       "#sk-container-id-1 div.sk-toggleable__content {\n",
       "  max-height: 0;\n",
       "  max-width: 0;\n",
       "  overflow: hidden;\n",
       "  text-align: left;\n",
       "  /* unfitted */\n",
       "  background-color: var(--sklearn-color-unfitted-level-0);\n",
       "}\n",
       "\n",
       "#sk-container-id-1 div.sk-toggleable__content.fitted {\n",
       "  /* fitted */\n",
       "  background-color: var(--sklearn-color-fitted-level-0);\n",
       "}\n",
       "\n",
       "#sk-container-id-1 div.sk-toggleable__content pre {\n",
       "  margin: 0.2em;\n",
       "  border-radius: 0.25em;\n",
       "  color: var(--sklearn-color-text);\n",
       "  /* unfitted */\n",
       "  background-color: var(--sklearn-color-unfitted-level-0);\n",
       "}\n",
       "\n",
       "#sk-container-id-1 div.sk-toggleable__content.fitted pre {\n",
       "  /* unfitted */\n",
       "  background-color: var(--sklearn-color-fitted-level-0);\n",
       "}\n",
       "\n",
       "#sk-container-id-1 input.sk-toggleable__control:checked~div.sk-toggleable__content {\n",
       "  /* Expand drop-down */\n",
       "  max-height: 200px;\n",
       "  max-width: 100%;\n",
       "  overflow: auto;\n",
       "}\n",
       "\n",
       "#sk-container-id-1 input.sk-toggleable__control:checked~label.sk-toggleable__label-arrow:before {\n",
       "  content: \"▾\";\n",
       "}\n",
       "\n",
       "/* Pipeline/ColumnTransformer-specific style */\n",
       "\n",
       "#sk-container-id-1 div.sk-label input.sk-toggleable__control:checked~label.sk-toggleable__label {\n",
       "  color: var(--sklearn-color-text);\n",
       "  background-color: var(--sklearn-color-unfitted-level-2);\n",
       "}\n",
       "\n",
       "#sk-container-id-1 div.sk-label.fitted input.sk-toggleable__control:checked~label.sk-toggleable__label {\n",
       "  background-color: var(--sklearn-color-fitted-level-2);\n",
       "}\n",
       "\n",
       "/* Estimator-specific style */\n",
       "\n",
       "/* Colorize estimator box */\n",
       "#sk-container-id-1 div.sk-estimator input.sk-toggleable__control:checked~label.sk-toggleable__label {\n",
       "  /* unfitted */\n",
       "  background-color: var(--sklearn-color-unfitted-level-2);\n",
       "}\n",
       "\n",
       "#sk-container-id-1 div.sk-estimator.fitted input.sk-toggleable__control:checked~label.sk-toggleable__label {\n",
       "  /* fitted */\n",
       "  background-color: var(--sklearn-color-fitted-level-2);\n",
       "}\n",
       "\n",
       "#sk-container-id-1 div.sk-label label.sk-toggleable__label,\n",
       "#sk-container-id-1 div.sk-label label {\n",
       "  /* The background is the default theme color */\n",
       "  color: var(--sklearn-color-text-on-default-background);\n",
       "}\n",
       "\n",
       "/* On hover, darken the color of the background */\n",
       "#sk-container-id-1 div.sk-label:hover label.sk-toggleable__label {\n",
       "  color: var(--sklearn-color-text);\n",
       "  background-color: var(--sklearn-color-unfitted-level-2);\n",
       "}\n",
       "\n",
       "/* Label box, darken color on hover, fitted */\n",
       "#sk-container-id-1 div.sk-label.fitted:hover label.sk-toggleable__label.fitted {\n",
       "  color: var(--sklearn-color-text);\n",
       "  background-color: var(--sklearn-color-fitted-level-2);\n",
       "}\n",
       "\n",
       "/* Estimator label */\n",
       "\n",
       "#sk-container-id-1 div.sk-label label {\n",
       "  font-family: monospace;\n",
       "  font-weight: bold;\n",
       "  display: inline-block;\n",
       "  line-height: 1.2em;\n",
       "}\n",
       "\n",
       "#sk-container-id-1 div.sk-label-container {\n",
       "  text-align: center;\n",
       "}\n",
       "\n",
       "/* Estimator-specific */\n",
       "#sk-container-id-1 div.sk-estimator {\n",
       "  font-family: monospace;\n",
       "  border: 1px dotted var(--sklearn-color-border-box);\n",
       "  border-radius: 0.25em;\n",
       "  box-sizing: border-box;\n",
       "  margin-bottom: 0.5em;\n",
       "  /* unfitted */\n",
       "  background-color: var(--sklearn-color-unfitted-level-0);\n",
       "}\n",
       "\n",
       "#sk-container-id-1 div.sk-estimator.fitted {\n",
       "  /* fitted */\n",
       "  background-color: var(--sklearn-color-fitted-level-0);\n",
       "}\n",
       "\n",
       "/* on hover */\n",
       "#sk-container-id-1 div.sk-estimator:hover {\n",
       "  /* unfitted */\n",
       "  background-color: var(--sklearn-color-unfitted-level-2);\n",
       "}\n",
       "\n",
       "#sk-container-id-1 div.sk-estimator.fitted:hover {\n",
       "  /* fitted */\n",
       "  background-color: var(--sklearn-color-fitted-level-2);\n",
       "}\n",
       "\n",
       "/* Specification for estimator info (e.g. \"i\" and \"?\") */\n",
       "\n",
       "/* Common style for \"i\" and \"?\" */\n",
       "\n",
       ".sk-estimator-doc-link,\n",
       "a:link.sk-estimator-doc-link,\n",
       "a:visited.sk-estimator-doc-link {\n",
       "  float: right;\n",
       "  font-size: smaller;\n",
       "  line-height: 1em;\n",
       "  font-family: monospace;\n",
       "  background-color: var(--sklearn-color-background);\n",
       "  border-radius: 1em;\n",
       "  height: 1em;\n",
       "  width: 1em;\n",
       "  text-decoration: none !important;\n",
       "  margin-left: 1ex;\n",
       "  /* unfitted */\n",
       "  border: var(--sklearn-color-unfitted-level-1) 1pt solid;\n",
       "  color: var(--sklearn-color-unfitted-level-1);\n",
       "}\n",
       "\n",
       ".sk-estimator-doc-link.fitted,\n",
       "a:link.sk-estimator-doc-link.fitted,\n",
       "a:visited.sk-estimator-doc-link.fitted {\n",
       "  /* fitted */\n",
       "  border: var(--sklearn-color-fitted-level-1) 1pt solid;\n",
       "  color: var(--sklearn-color-fitted-level-1);\n",
       "}\n",
       "\n",
       "/* On hover */\n",
       "div.sk-estimator:hover .sk-estimator-doc-link:hover,\n",
       ".sk-estimator-doc-link:hover,\n",
       "div.sk-label-container:hover .sk-estimator-doc-link:hover,\n",
       ".sk-estimator-doc-link:hover {\n",
       "  /* unfitted */\n",
       "  background-color: var(--sklearn-color-unfitted-level-3);\n",
       "  color: var(--sklearn-color-background);\n",
       "  text-decoration: none;\n",
       "}\n",
       "\n",
       "div.sk-estimator.fitted:hover .sk-estimator-doc-link.fitted:hover,\n",
       ".sk-estimator-doc-link.fitted:hover,\n",
       "div.sk-label-container:hover .sk-estimator-doc-link.fitted:hover,\n",
       ".sk-estimator-doc-link.fitted:hover {\n",
       "  /* fitted */\n",
       "  background-color: var(--sklearn-color-fitted-level-3);\n",
       "  color: var(--sklearn-color-background);\n",
       "  text-decoration: none;\n",
       "}\n",
       "\n",
       "/* Span, style for the box shown on hovering the info icon */\n",
       ".sk-estimator-doc-link span {\n",
       "  display: none;\n",
       "  z-index: 9999;\n",
       "  position: relative;\n",
       "  font-weight: normal;\n",
       "  right: .2ex;\n",
       "  padding: .5ex;\n",
       "  margin: .5ex;\n",
       "  width: min-content;\n",
       "  min-width: 20ex;\n",
       "  max-width: 50ex;\n",
       "  color: var(--sklearn-color-text);\n",
       "  box-shadow: 2pt 2pt 4pt #999;\n",
       "  /* unfitted */\n",
       "  background: var(--sklearn-color-unfitted-level-0);\n",
       "  border: .5pt solid var(--sklearn-color-unfitted-level-3);\n",
       "}\n",
       "\n",
       ".sk-estimator-doc-link.fitted span {\n",
       "  /* fitted */\n",
       "  background: var(--sklearn-color-fitted-level-0);\n",
       "  border: var(--sklearn-color-fitted-level-3);\n",
       "}\n",
       "\n",
       ".sk-estimator-doc-link:hover span {\n",
       "  display: block;\n",
       "}\n",
       "\n",
       "/* \"?\"-specific style due to the `<a>` HTML tag */\n",
       "\n",
       "#sk-container-id-1 a.estimator_doc_link {\n",
       "  float: right;\n",
       "  font-size: 1rem;\n",
       "  line-height: 1em;\n",
       "  font-family: monospace;\n",
       "  background-color: var(--sklearn-color-background);\n",
       "  border-radius: 1rem;\n",
       "  height: 1rem;\n",
       "  width: 1rem;\n",
       "  text-decoration: none;\n",
       "  /* unfitted */\n",
       "  color: var(--sklearn-color-unfitted-level-1);\n",
       "  border: var(--sklearn-color-unfitted-level-1) 1pt solid;\n",
       "}\n",
       "\n",
       "#sk-container-id-1 a.estimator_doc_link.fitted {\n",
       "  /* fitted */\n",
       "  border: var(--sklearn-color-fitted-level-1) 1pt solid;\n",
       "  color: var(--sklearn-color-fitted-level-1);\n",
       "}\n",
       "\n",
       "/* On hover */\n",
       "#sk-container-id-1 a.estimator_doc_link:hover {\n",
       "  /* unfitted */\n",
       "  background-color: var(--sklearn-color-unfitted-level-3);\n",
       "  color: var(--sklearn-color-background);\n",
       "  text-decoration: none;\n",
       "}\n",
       "\n",
       "#sk-container-id-1 a.estimator_doc_link.fitted:hover {\n",
       "  /* fitted */\n",
       "  background-color: var(--sklearn-color-fitted-level-3);\n",
       "}\n",
       "</style><div id=\"sk-container-id-1\" class=\"sk-top-container\"><div class=\"sk-text-repr-fallback\"><pre>SVC(C=10, kernel=&#x27;linear&#x27;)</pre><b>In a Jupyter environment, please rerun this cell to show the HTML representation or trust the notebook. <br />On GitHub, the HTML representation is unable to render, please try loading this page with nbviewer.org.</b></div><div class=\"sk-container\" hidden><div class=\"sk-item\"><div class=\"sk-estimator fitted sk-toggleable\"><input class=\"sk-toggleable__control sk-hidden--visually\" id=\"sk-estimator-id-1\" type=\"checkbox\" checked><label for=\"sk-estimator-id-1\" class=\"sk-toggleable__label fitted sk-toggleable__label-arrow fitted\">&nbsp;&nbsp;SVC<a class=\"sk-estimator-doc-link fitted\" rel=\"noreferrer\" target=\"_blank\" href=\"https://scikit-learn.org/1.4/modules/generated/sklearn.svm.SVC.html\">?<span>Documentation for SVC</span></a><span class=\"sk-estimator-doc-link fitted\">i<span>Fitted</span></span></label><div class=\"sk-toggleable__content fitted\"><pre>SVC(C=10, kernel=&#x27;linear&#x27;)</pre></div> </div></div></div></div>"
      ],
      "text/plain": [
       "SVC(C=10, kernel='linear')"
      ]
     },
     "execution_count": 74,
     "metadata": {},
     "output_type": "execute_result"
    }
   ],
   "source": [
    "SVM = SVC(C = 10, kernel = 'linear')\n",
    "SVM.fit(X_train_tfidf, y_train)"
   ]
  },
  {
   "cell_type": "code",
   "execution_count": 75,
   "metadata": {
    "id": "ttMpyraW94ei"
   },
   "outputs": [],
   "source": [
    "y_pred = SVM.predict(X_test_tfidf)"
   ]
  },
  {
   "cell_type": "code",
   "execution_count": 76,
   "metadata": {
    "colab": {
     "base_uri": "https://localhost:8080/"
    },
    "id": "u1Pdl1Am9_9r",
    "outputId": "48354399-5d76-49c7-ad5e-c8f9ac9bb90c"
   },
   "outputs": [
    {
     "name": "stdout",
     "output_type": "stream",
     "text": [
      "              precision    recall  f1-score   support\n",
      "\n",
      "    Negative       0.77      0.71      0.74        24\n",
      "    Positive       0.85      0.89      0.87        44\n",
      "\n",
      "    accuracy                           0.82        68\n",
      "   macro avg       0.81      0.80      0.80        68\n",
      "weighted avg       0.82      0.82      0.82        68\n",
      "\n"
     ]
    }
   ],
   "source": [
    "print(classification_report(y_test, y_pred))"
   ]
  },
  {
   "cell_type": "markdown",
   "metadata": {
    "id": "367lQ4_YYJNr"
   },
   "source": [
    "### Observations from classification report of SVM model:\n",
    "\n",
    "Negative Class:\n",
    "\n",
    "1. Precision: 0.77\n",
    "2. Recall: 0.87\n",
    "3. F1-score: 0.82\n",
    "\n",
    "Positive Class:\n",
    "1. Precision: 0.93\n",
    "2. Recall: 0.87\n",
    "3. F1-score: 0.90\n",
    "\n",
    "\n",
    "Overall Accuracy: 0.87 (87%)\n",
    "\n"
   ]
  },
  {
   "cell_type": "markdown",
   "metadata": {
    "id": "WLpkdfKs7Zbz"
   },
   "source": [
    "## Inference on Text Classification Model (SVM):\n",
    "\n",
    "#### 1. High precision and recall: The model demonstrates high precision and recall for both Positive and Negative classes, indicating a strong ability to accurately identify these sentiments.\n",
    "#### 2. Good Accuracy: The model is performing well overall, with an accuracy of 0.87, indicating it correctly classifies 87% of the reviews.\n",
    "#### 3. Balanced Performance: The F1-scores for both positive and negative classes are relatively balanced (0.90 and 0.82, respectively), indicating a consistent performance in classifying both sentiment categories. F1-score is the harmonic mean of precision and recall, reflecting a balance between the two."
   ]
  },
  {
   "cell_type": "markdown",
   "metadata": {
    "id": "fT11LHwXaNxM"
   },
   "source": [
    "## CONCLUSION:\n",
    "#### The sentiment classification model (SVM), demonstrates strong overall performance, accurately classifying sentiments and exhibiting a robust ability to distinguish between positive and negative reviews. Its high precision, recall, and accuracy make it a reliable tool for sentiment analysis."
   ]
  },
  {
   "cell_type": "code",
   "execution_count": 80,
   "metadata": {
    "id": "YpDcWFmw-xOv"
   },
   "outputs": [],
   "source": [
    "import pickle"
   ]
  },
  {
   "cell_type": "code",
   "execution_count": 81,
   "metadata": {
    "id": "ZpKC7SaSl6uD"
   },
   "outputs": [],
   "source": [
    "# Save TFIDF vectorizer\n",
    "with open('tfidf_vectorizer.pkl', 'wb') as f:\n",
    "    pickle.dump(vectorizer, f)\n",
    "\n",
    "# Save Logistic Regression model\n",
    "with open('SVM.pkl', 'wb') as f:\n",
    "    pickle.dump(SVM, f)"
   ]
  }
 ],
 "metadata": {
  "colab": {
   "provenance": []
  },
  "kernelspec": {
   "display_name": "Python 3 (ipykernel)",
   "language": "python",
   "name": "python3"
  },
  "language_info": {
   "codemirror_mode": {
    "name": "ipython",
    "version": 3
   },
   "file_extension": ".py",
   "mimetype": "text/x-python",
   "name": "python",
   "nbconvert_exporter": "python",
   "pygments_lexer": "ipython3",
   "version": "3.12.4"
  }
 },
 "nbformat": 4,
 "nbformat_minor": 4
}
